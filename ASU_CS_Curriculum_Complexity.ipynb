{
 "cells": [
  {
   "cell_type": "markdown",
   "id": "5dc1987d",
   "metadata": {},
   "source": [
    "### Curriculum Complexity of the Angelo State University's Computer Science Program\n",
    "\n",
    "Using [CurricularAnalytics](https://curricularanalytics.org)\n",
    "\n",
    "[ASU Computer Science](http://cs.angelo.edu) [4-year Degree Plan](https://www.angelo.edu/academics/programs/computer-science/four-year-plan/)\n",
    "\n",
    "Aug 7, 2021"
   ]
  },
  {
   "cell_type": "code",
   "execution_count": 1,
   "id": "3d8b12ef",
   "metadata": {},
   "outputs": [
    {
     "data": {
      "text/html": [
       "<script>\n",
       "// Immediately-invoked-function-expression to avoid global variables.\n",
       "(function() {\n",
       "    var warning_div = document.getElementById(\"webio-warning-14757519543471923157\");\n",
       "    var hide = function () {\n",
       "        var script = document.getElementById(\"webio-setup-11613523258600640177\");\n",
       "        var parent = script && script.parentElement;\n",
       "        var grandparent = parent && parent.parentElement;\n",
       "        if (grandparent) {\n",
       "            grandparent.style.display = \"none\";\n",
       "        }\n",
       "        warning_div.style.display = \"none\";\n",
       "    };\n",
       "    if (typeof Jupyter !== \"undefined\") {\n",
       "        console.log(\"WebIO detected Jupyter notebook environment.\");\n",
       "        // Jupyter notebook.\n",
       "        var extensions = (\n",
       "            Jupyter\n",
       "            && Jupyter.notebook.config.data\n",
       "            && Jupyter.notebook.config.data.load_extensions\n",
       "        );\n",
       "        if (extensions && extensions[\"webio-jupyter-notebook\"]) {\n",
       "            // Extension already loaded.\n",
       "            console.log(\"Jupyter WebIO nbextension detected; not loading ad-hoc.\");\n",
       "            hide();\n",
       "            return;\n",
       "        }\n",
       "    } else if (window.location.pathname.includes(\"/lab\")) {\n",
       "        // Guessing JupyterLa\n",
       "        console.log(\"Jupyter Lab detected; make sure the @webio/jupyter-lab-provider labextension is installed.\");\n",
       "        hide();\n",
       "        return;\n",
       "    }\n",
       "})();\n",
       "\n",
       "</script>\n",
       "<p\n",
       "    id=\"webio-warning-14757519543471923157\"\n",
       "    class=\"output_text output_stderr\"\n",
       "    style=\"padding: 1em; font-weight: bold;\"\n",
       ">\n",
       "    Unable to load WebIO. Please make sure WebIO works for your Jupyter client.\n",
       "    For troubleshooting, please see <a href=\"https://juliagizmos.github.io/WebIO.jl/latest/providers/ijulia/\">\n",
       "    the WebIO/IJulia documentation</a>.\n",
       "    <!-- TODO: link to installation docs. -->\n",
       "</p>\n"
      ],
      "text/plain": [
       "HTML{String}(\"<script>\\n// Immediately-invoked-function-expression to avoid global variables.\\n(function() {\\n    var warning_div = document.getElementById(\\\"webio-warning-14757519543471923157\\\");\\n    var hide = function () {\\n        var script = document.getElementById(\\\"webio-setup-11613523258600640177\\\");\\n        var parent = script && script.parentElement;\\n        var grandparent = parent && parent.parentElement;\\n        if (grandparent) {\\n            grandparent.style.display = \\\"none\\\";\\n        }\\n        warning_div.style.display = \\\"none\\\";\\n    };\\n    if (typeof Jupyter !== \\\"undefined\\\") {\\n        console.log(\\\"WebIO detected Jupyter notebook environment.\\\");\\n        // Jupyter notebook.\\n        var extensions = (\\n            Jupyter\\n            && Jupyter.notebook.config.data\\n            && Jupyter.notebook.config.data.load_extensions\\n        );\\n        if (extensions && extensions[\\\"webio-jupyter-notebook\\\"]) {\\n            // Extension already loaded.\\n            console.log(\\\"Jupyter WebIO nbextension detected; not loading ad-hoc.\\\");\\n            hide();\\n            return;\\n        }\\n    } else if (window.location.pathname.includes(\\\"/lab\\\")) {\\n        // Guessing JupyterLa\\n        console.log(\\\"Jupyter Lab detected; make sure the @webio/jupyter-lab-provider labextension is installed.\\\");\\n        hide();\\n        return;\\n    }\\n})();\\n\\n</script>\\n<p\\n    id=\\\"webio-warning-14757519543471923157\\\"\\n    class=\\\"output_text output_stderr\\\"\\n    style=\\\"padding: 1em; font-weight: bold;\\\"\\n>\\n    Unable to load WebIO. Please make sure WebIO works for your Jupyter client.\\n    For troubleshooting, please see <a href=\\\"https://juliagizmos.github.io/WebIO.jl/latest/providers/ijulia/\\\">\\n    the WebIO/IJulia documentation</a>.\\n    <!-- TODO: link to installation docs. -->\\n</p>\\n\")"
      ]
     },
     "metadata": {},
     "output_type": "display_data"
    }
   ],
   "source": [
    "using CurricularAnalytics, CurricularVisualization"
   ]
  },
  {
   "cell_type": "code",
   "execution_count": 46,
   "id": "3e415b86",
   "metadata": {},
   "outputs": [
    {
     "data": {
      "application/vnd.webio.node+json": {
       "children": [
        {
         "children": [
          ""
         ],
         "instanceArgs": {
          "namespace": "html",
          "tag": "iframe"
         },
         "nodeType": "DOM",
         "props": {
          "events": {
           "load": "(function (){this.contentWindow.postMessage({\"options\":{\"hideTerms\":false,\"edit\":false},\"curriculum\":{\"name\":\"Computer Science\",\"dp_name\":\"ASU_CS\",\"curriculum_terms\":[{\"name\":\"Term 1\",\"curriculum_items\":[{\"curriculum_requisites\":[],\"name\":\" CS 1336\",\"metrics\":{\"centrality\":0,\"complexity\":15.0,\"blocking factor\":11,\"delay factor\":4.0},\"nameSub\":\"Computer Science I \",\"id\":1336,\"credits\":3,\"nameCanonical\":\"\"},{\"curriculum_requisites\":[],\"name\":\"BGH 1400\",\"metrics\":{\"centrality\":0,\"complexity\":1.0,\"blocking factor\":0,\"delay factor\":1.0},\"nameSub\":\"BIOL_GEOL_HSP\",\"id\":21,\"credits\":4,\"nameCanonical\":\"\"},{\"curriculum_requisites\":[],\"name\":\"ENGL 1301\",\"metrics\":{\"centrality\":0,\"complexity\":1.0,\"blocking factor\":0,\"delay factor\":1.0},\"nameSub\":\"ENGL 1301\",\"id\":22,\"credits\":3,\"nameCanonical\":\"\"},{\"curriculum_requisites\":[],\"name\":\"MATH 1314/1316/2413\",\"metrics\":{\"centrality\":0,\"complexity\":5.0,\"blocking factor\":2,\"delay factor\":3.0},\"nameSub\":\"Algebra/Calculus/Trig\",\"id\":23,\"credits\":3,\"nameCanonical\":\"\"},{\"curriculum_requisites\":[],\"name\":\"GS 1181\",\"metrics\":{\"centrality\":0,\"complexity\":1.0,\"blocking factor\":0,\"delay factor\":1.0},\"nameSub\":\"GS 1181\",\"id\":24,\"credits\":1,\"nameCanonical\":\"\"}],\"id\":1},{\"name\":\"Term 2\",\"curriculum_items\":[{\"curriculum_requisites\":[{\"source_id\":1336,\"target_id\":1337,\"type\":\"CurriculumPrerequisite\"}],\"name\":\" CS 1337\",\"metrics\":{\"centrality\":35,\"complexity\":14.0,\"blocking factor\":10,\"delay factor\":4.0},\"nameSub\":\"Computer Science II \",\"id\":1337,\"credits\":3,\"nameCanonical\":\"\"},{\"curriculum_requisites\":[],\"name\":\" CS 1\",\"metrics\":{\"centrality\":0,\"complexity\":1.0,\"blocking factor\":0,\"delay factor\":1.0},\"nameSub\":\"Elective\",\"id\":1,\"credits\":3,\"nameCanonical\":\"\"},{\"curriculum_requisites\":[],\"name\":\"BGH 1400\",\"metrics\":{\"centrality\":0,\"complexity\":1.0,\"blocking factor\":0,\"delay factor\":1.0},\"nameSub\":\"BIOL_GEOL_HSP\",\"id\":25,\"credits\":4,\"nameCanonical\":\"\"},{\"curriculum_requisites\":[],\"name\":\"ENGL 1302;2311\",\"metrics\":{\"centrality\":0,\"complexity\":1.0,\"blocking factor\":0,\"delay factor\":1.0},\"nameSub\":\"ENGL 1302 or 2311\",\"id\":26,\"credits\":3,\"nameCanonical\":\"\"},{\"curriculum_requisites\":[{\"source_id\":23,\"target_id\":27,\"type\":\"CurriculumPrerequisite\"}],\"name\":\"MATH 2312\",\"metrics\":{\"centrality\":3,\"complexity\":4.0,\"blocking factor\":1,\"delay factor\":3.0},\"nameSub\":\"Precalculus\",\"id\":27,\"credits\":3,\"nameCanonical\":\"\"}],\"id\":2},{\"name\":\"Term 3\",\"curriculum_items\":[{\"curriculum_requisites\":[{\"source_id\":1337,\"target_id\":2336,\"type\":\"CurriculumPrerequisite\"}],\"name\":\" CS 2336\",\"metrics\":{\"centrality\":28,\"complexity\":11.0,\"blocking factor\":7,\"delay factor\":4.0},\"nameSub\":\"Data Structures and Algorithms \",\"id\":2336,\"credits\":3,\"nameCanonical\":\"\"},{\"curriculum_requisites\":[],\"name\":\"HIST 1301\",\"metrics\":{\"centrality\":0,\"complexity\":1.0,\"blocking factor\":0,\"delay factor\":1.0},\"nameSub\":\"History 1\",\"id\":28,\"credits\":3,\"nameCanonical\":\"\"},{\"curriculum_requisites\":[{\"source_id\":27,\"target_id\":29,\"type\":\"CurriculumPrerequisite\"}],\"name\":\"MATH 2305\",\"metrics\":{\"centrality\":0,\"complexity\":3.0,\"blocking factor\":0,\"delay factor\":3.0},\"nameSub\":\"Discrete Math\",\"id\":29,\"credits\":3,\"nameCanonical\":\"\"},{\"curriculum_requisites\":[],\"name\":\"COMM 1315\",\"metrics\":{\"centrality\":0,\"complexity\":1.0,\"blocking factor\":0,\"delay factor\":1.0},\"nameSub\":\"Communication\",\"id\":30,\"credits\":3,\"nameCanonical\":\"\"},{\"curriculum_requisites\":[],\"name\":\"CPP 1000\",\"metrics\":{\"centrality\":0,\"complexity\":1.0,\"blocking factor\":0,\"delay factor\":1.0},\"nameSub\":\"CHEM_PS_PHYS\",\"id\":31,\"credits\":3,\"nameCanonical\":\"\"}],\"id\":3},{\"name\":\"Term 4\",\"curriculum_items\":[{\"curriculum_requisites\":[{\"source_id\":1337,\"target_id\":3304,\"type\":\"CurriculumPrerequisite\"}],\"name\":\" CS 3304\",\"metrics\":{\"centrality\":4,\"complexity\":5.0,\"blocking factor\":1,\"delay factor\":4.0},\"nameSub\":\"Computer Organization and Programming \",\"id\":3304,\"credits\":3,\"nameCanonical\":\"\"},{\"curriculum_requisites\":[],\"name\":\" CS 2\",\"metrics\":{\"centrality\":0,\"complexity\":1.0,\"blocking factor\":0,\"delay factor\":1.0},\"nameSub\":\"CS Elective\",\"id\":2,\"credits\":3,\"nameCanonical\":\"\"},{\"curriculum_requisites\":[],\"name\":\"HIST 1302\",\"metrics\":{\"centrality\":0,\"complexity\":1.0,\"blocking factor\":0,\"delay factor\":1.0},\"nameSub\":\"History 2\",\"id\":32,\"credits\":3,\"nameCanonical\":\"\"},{\"curriculum_requisites\":[],\"name\":\"POLS 2305\",\"metrics\":{\"centrality\":0,\"complexity\":1.0,\"blocking factor\":0,\"delay factor\":1.0},\"nameSub\":\"Political Science\",\"id\":33,\"credits\":3,\"nameCanonical\":\"\"},{\"curriculum_requisites\":[],\"name\":\"LPC 1000\",\"metrics\":{\"centrality\":0,\"complexity\":1.0,\"blocking factor\":0,\"delay factor\":1.0},\"nameSub\":\"Lang, Philos, Culture\",\"id\":34,\"credits\":3,\"nameCanonical\":\"\"}],\"id\":4},{\"name\":\"Term 5\",\"curriculum_items\":[{\"curriculum_requisites\":[{\"source_id\":2336,\"target_id\":3352,\"type\":\"CurriculumPrerequisite\"}],\"name\":\" CS 3352\",\"metrics\":{\"centrality\":0,\"complexity\":4.0,\"blocking factor\":0,\"delay factor\":4.0},\"nameSub\":\"Theory of Algorithms \",\"id\":3352,\"credits\":3,\"nameCanonical\":\"\"},{\"curriculum_requisites\":[{\"source_id\":2336,\"target_id\":4301,\"type\":\"CurriculumPrerequisite\"},{\"source_id\":3304,\"target_id\":4301,\"type\":\"CurriculumPrerequisite\"}],\"name\":\" CS 4301\",\"metrics\":{\"centrality\":0,\"complexity\":4.0,\"blocking factor\":0,\"delay factor\":4.0},\"nameSub\":\"Algorithmic Languages and Compilers \",\"id\":4301,\"credits\":3,\"nameCanonical\":\"\"},{\"curriculum_requisites\":[{\"source_id\":2336,\"target_id\":3,\"type\":\"CurriculumPrerequisite\"}],\"name\":\" CS 3\",\"metrics\":{\"centrality\":0,\"complexity\":4.0,\"blocking factor\":0,\"delay factor\":4.0},\"nameSub\":\"CS Elective (advanced)\",\"id\":3,\"credits\":3,\"nameCanonical\":\"\"},{\"curriculum_requisites\":[],\"name\":\"ART 1000\",\"metrics\":{\"centrality\":0,\"complexity\":1.0,\"blocking factor\":0,\"delay factor\":1.0},\"nameSub\":\"Creative Arts\",\"id\":35,\"credits\":3,\"nameCanonical\":\"\"},{\"curriculum_requisites\":[],\"name\":\"POLS 2306\",\"metrics\":{\"centrality\":0,\"complexity\":1.0,\"blocking factor\":0,\"delay factor\":1.0},\"nameSub\":\"Political Science\",\"id\":36,\"credits\":3,\"nameCanonical\":\"\"}],\"id\":5},{\"name\":\"Term 6\",\"curriculum_items\":[{\"curriculum_requisites\":[{\"source_id\":1337,\"target_id\":3311,\"type\":\"CurriculumPrerequisite\"}],\"name\":\" CS 3311\",\"metrics\":{\"centrality\":0,\"complexity\":3.0,\"blocking factor\":0,\"delay factor\":3.0},\"nameSub\":\"Data Base Management \",\"id\":3311,\"credits\":3,\"nameCanonical\":\"\"},{\"curriculum_requisites\":[{\"source_id\":2336,\"target_id\":4302,\"type\":\"CurriculumPrerequisite\"}],\"name\":\" CS 4302\",\"metrics\":{\"centrality\":0,\"complexity\":4.0,\"blocking factor\":0,\"delay factor\":4.0},\"nameSub\":\"Operating Systems \",\"id\":4302,\"credits\":3,\"nameCanonical\":\"\"},{\"curriculum_requisites\":[],\"name\":\" CS 4\",\"metrics\":{\"centrality\":0,\"complexity\":1.0,\"blocking factor\":0,\"delay factor\":1.0},\"nameSub\":\"Elective\",\"id\":4,\"credits\":3,\"nameCanonical\":\"\"},{\"curriculum_requisites\":[],\"name\":\" CS 5\",\"metrics\":{\"centrality\":0,\"complexity\":1.0,\"blocking factor\":0,\"delay factor\":1.0},\"nameSub\":\"Elective\",\"id\":5,\"credits\":3,\"nameCanonical\":\"\"},{\"curriculum_requisites\":[],\"name\":\"PHYS 3444\",\"metrics\":{\"centrality\":0,\"complexity\":1.0,\"blocking factor\":0,\"delay factor\":1.0},\"nameSub\":\"Digital Electronics\",\"id\":37,\"credits\":4,\"nameCanonical\":\"\"}],\"id\":6},{\"name\":\"Term 7\",\"curriculum_items\":[{\"curriculum_requisites\":[{\"source_id\":2336,\"target_id\":4306,\"type\":\"CurriculumPrerequisite\"}],\"name\":\" CS 4306\",\"metrics\":{\"centrality\":0,\"complexity\":4.0,\"blocking factor\":0,\"delay factor\":4.0},\"nameSub\":\"Software Engineering \",\"id\":4306,\"credits\":3,\"nameCanonical\":\"\"},{\"curriculum_requisites\":[{\"source_id\":2336,\"target_id\":6,\"type\":\"CurriculumPrerequisite\"}],\"name\":\" CS 6\",\"metrics\":{\"centrality\":0,\"complexity\":4.0,\"blocking factor\":0,\"delay factor\":4.0},\"nameSub\":\"CS Elective (advanced)\",\"id\":6,\"credits\":3,\"nameCanonical\":\"\"},{\"curriculum_requisites\":[],\"name\":\" CS 7\",\"metrics\":{\"centrality\":0,\"complexity\":1.0,\"blocking factor\":0,\"delay factor\":1.0},\"nameSub\":\"Elective\",\"id\":7,\"credits\":3,\"nameCanonical\":\"\"},{\"curriculum_requisites\":[],\"name\":\" CS 8\",\"metrics\":{\"centrality\":0,\"complexity\":1.0,\"blocking factor\":0,\"delay factor\":1.0},\"nameSub\":\"Elective (advanced)\",\"id\":8,\"credits\":3,\"nameCanonical\":\"\"},{\"curriculum_requisites\":[],\"name\":\"ENGL 3351\",\"metrics\":{\"centrality\":0,\"complexity\":1.0,\"blocking factor\":0,\"delay factor\":1.0},\"nameSub\":\"Technical Writing\",\"id\":38,\"credits\":3,\"nameCanonical\":\"\"}],\"id\":7},{\"name\":\"Term 8\",\"curriculum_items\":[{\"curriculum_requisites\":[{\"source_id\":2336,\"target_id\":9,\"type\":\"CurriculumPrerequisite\"}],\"name\":\" CS 9\",\"metrics\":{\"centrality\":0,\"complexity\":4.0,\"blocking factor\":0,\"delay factor\":4.0},\"nameSub\":\"CS Elective (advanced)\",\"id\":9,\"credits\":3,\"nameCanonical\":\"\"},{\"curriculum_requisites\":[],\"name\":\" CS 10\",\"metrics\":{\"centrality\":0,\"complexity\":1.0,\"blocking factor\":0,\"delay factor\":1.0},\"nameSub\":\"Elective\",\"id\":10,\"credits\":3,\"nameCanonical\":\"\"},{\"curriculum_requisites\":[],\"name\":\" CS 11\",\"metrics\":{\"centrality\":0,\"complexity\":1.0,\"blocking factor\":0,\"delay factor\":1.0},\"nameSub\":\"Elective\",\"id\":11,\"credits\":3,\"nameCanonical\":\"\"},{\"curriculum_requisites\":[],\"name\":\" CS 12\",\"metrics\":{\"centrality\":0,\"complexity\":1.0,\"blocking factor\":0,\"delay factor\":1.0},\"nameSub\":\"Elective\",\"id\":12,\"credits\":3,\"nameCanonical\":\"\"},{\"curriculum_requisites\":[],\"name\":\"SB 1000\",\"metrics\":{\"centrality\":0,\"complexity\":1.0,\"blocking factor\":0,\"delay factor\":1.0},\"nameSub\":\"Social and Behav. Sciences\",\"id\":39,\"credits\":3,\"nameCanonical\":\"\"}],\"id\":8}],\"institution\":\"Angelo State University\"}},\"*\"); window.removeEventListener(\"message\",window.messageReceived); window.messageReceived=(function (event){return (event.data.curriculum!==undefined) ? (WebIO.setval({\"name\":\"curriculum-data\",\"scope\":\"12304604055382734405\",\"id\":\"18434596780026483607\",\"type\":\"observable\"},event.data.curriculum)) : undefined}); return window.addEventListener(\"message\",window.messageReceived)})"
          },
          "id": "curriculum",
          "src": "https://curricula-api-embed.damoursystems.com/",
          "style": {
           "border": "none",
           "height": "100vh",
           "margin": "0",
           "padding": "0",
           "width": "100%"
          }
         },
         "type": "node"
        }
       ],
       "instanceArgs": {
        "handlers": {},
        "id": "12304604055382734405",
        "imports": {
         "data": [],
         "type": "async_block"
        },
        "mount_callbacks": [],
        "observables": {
         "curriculum-data": {
          "id": "18434596780026483607",
          "sync": true,
          "value": {
           "curriculum": {
            "curriculum_terms": [
             {
              "curriculum_items": [
               {
                "credits": 3,
                "curriculum_requisites": [],
                "id": 1336,
                "metrics": {
                 "blocking factor": 11,
                 "centrality": 0,
                 "complexity": 15,
                 "delay factor": 4
                },
                "name": " CS 1336",
                "nameCanonical": "",
                "nameSub": "Computer Science I "
               },
               {
                "credits": 4,
                "curriculum_requisites": [],
                "id": 21,
                "metrics": {
                 "blocking factor": 0,
                 "centrality": 0,
                 "complexity": 1,
                 "delay factor": 1
                },
                "name": "BGH 1400",
                "nameCanonical": "",
                "nameSub": "BIOL_GEOL_HSP"
               },
               {
                "credits": 3,
                "curriculum_requisites": [],
                "id": 22,
                "metrics": {
                 "blocking factor": 0,
                 "centrality": 0,
                 "complexity": 1,
                 "delay factor": 1
                },
                "name": "ENGL 1301",
                "nameCanonical": "",
                "nameSub": "ENGL 1301"
               },
               {
                "credits": 3,
                "curriculum_requisites": [],
                "id": 23,
                "metrics": {
                 "blocking factor": 2,
                 "centrality": 0,
                 "complexity": 5,
                 "delay factor": 3
                },
                "name": "MATH 1314/1316/2413",
                "nameCanonical": "",
                "nameSub": "Algebra/Calculus/Trig"
               },
               {
                "credits": 1,
                "curriculum_requisites": [],
                "id": 24,
                "metrics": {
                 "blocking factor": 0,
                 "centrality": 0,
                 "complexity": 1,
                 "delay factor": 1
                },
                "name": "GS 1181",
                "nameCanonical": "",
                "nameSub": "GS 1181"
               }
              ],
              "id": 1,
              "name": "Term 1"
             },
             {
              "curriculum_items": [
               {
                "credits": 3,
                "curriculum_requisites": [
                 {
                  "source_id": 1336,
                  "target_id": 1337,
                  "type": "CurriculumPrerequisite"
                 }
                ],
                "id": 1337,
                "metrics": {
                 "blocking factor": 10,
                 "centrality": 35,
                 "complexity": 14,
                 "delay factor": 4
                },
                "name": " CS 1337",
                "nameCanonical": "",
                "nameSub": "Computer Science II "
               },
               {
                "credits": 3,
                "curriculum_requisites": [],
                "id": 1,
                "metrics": {
                 "blocking factor": 0,
                 "centrality": 0,
                 "complexity": 1,
                 "delay factor": 1
                },
                "name": " CS 1",
                "nameCanonical": "",
                "nameSub": "Elective"
               },
               {
                "credits": 4,
                "curriculum_requisites": [],
                "id": 25,
                "metrics": {
                 "blocking factor": 0,
                 "centrality": 0,
                 "complexity": 1,
                 "delay factor": 1
                },
                "name": "BGH 1400",
                "nameCanonical": "",
                "nameSub": "BIOL_GEOL_HSP"
               },
               {
                "credits": 3,
                "curriculum_requisites": [],
                "id": 26,
                "metrics": {
                 "blocking factor": 0,
                 "centrality": 0,
                 "complexity": 1,
                 "delay factor": 1
                },
                "name": "ENGL 1302;2311",
                "nameCanonical": "",
                "nameSub": "ENGL 1302 or 2311"
               },
               {
                "credits": 3,
                "curriculum_requisites": [
                 {
                  "source_id": 23,
                  "target_id": 27,
                  "type": "CurriculumPrerequisite"
                 }
                ],
                "id": 27,
                "metrics": {
                 "blocking factor": 1,
                 "centrality": 3,
                 "complexity": 4,
                 "delay factor": 3
                },
                "name": "MATH 2312",
                "nameCanonical": "",
                "nameSub": "Precalculus"
               }
              ],
              "id": 2,
              "name": "Term 2"
             },
             {
              "curriculum_items": [
               {
                "credits": 3,
                "curriculum_requisites": [
                 {
                  "source_id": 1337,
                  "target_id": 2336,
                  "type": "CurriculumPrerequisite"
                 }
                ],
                "id": 2336,
                "metrics": {
                 "blocking factor": 7,
                 "centrality": 28,
                 "complexity": 11,
                 "delay factor": 4
                },
                "name": " CS 2336",
                "nameCanonical": "",
                "nameSub": "Data Structures and Algorithms "
               },
               {
                "credits": 3,
                "curriculum_requisites": [],
                "id": 28,
                "metrics": {
                 "blocking factor": 0,
                 "centrality": 0,
                 "complexity": 1,
                 "delay factor": 1
                },
                "name": "HIST 1301",
                "nameCanonical": "",
                "nameSub": "History 1"
               },
               {
                "credits": 3,
                "curriculum_requisites": [
                 {
                  "source_id": 27,
                  "target_id": 29,
                  "type": "CurriculumPrerequisite"
                 }
                ],
                "id": 29,
                "metrics": {
                 "blocking factor": 0,
                 "centrality": 0,
                 "complexity": 3,
                 "delay factor": 3
                },
                "name": "MATH 2305",
                "nameCanonical": "",
                "nameSub": "Discrete Math"
               },
               {
                "credits": 3,
                "curriculum_requisites": [],
                "id": 30,
                "metrics": {
                 "blocking factor": 0,
                 "centrality": 0,
                 "complexity": 1,
                 "delay factor": 1
                },
                "name": "COMM 1315",
                "nameCanonical": "",
                "nameSub": "Communication"
               },
               {
                "credits": 3,
                "curriculum_requisites": [],
                "id": 31,
                "metrics": {
                 "blocking factor": 0,
                 "centrality": 0,
                 "complexity": 1,
                 "delay factor": 1
                },
                "name": "CPP 1000",
                "nameCanonical": "",
                "nameSub": "CHEM_PS_PHYS"
               }
              ],
              "id": 3,
              "name": "Term 3"
             },
             {
              "curriculum_items": [
               {
                "credits": 3,
                "curriculum_requisites": [
                 {
                  "source_id": 1337,
                  "target_id": 3304,
                  "type": "CurriculumPrerequisite"
                 }
                ],
                "id": 3304,
                "metrics": {
                 "blocking factor": 1,
                 "centrality": 4,
                 "complexity": 5,
                 "delay factor": 4
                },
                "name": " CS 3304",
                "nameCanonical": "",
                "nameSub": "Computer Organization and Programming "
               },
               {
                "credits": 3,
                "curriculum_requisites": [],
                "id": 2,
                "metrics": {
                 "blocking factor": 0,
                 "centrality": 0,
                 "complexity": 1,
                 "delay factor": 1
                },
                "name": " CS 2",
                "nameCanonical": "",
                "nameSub": "CS Elective"
               },
               {
                "credits": 3,
                "curriculum_requisites": [],
                "id": 32,
                "metrics": {
                 "blocking factor": 0,
                 "centrality": 0,
                 "complexity": 1,
                 "delay factor": 1
                },
                "name": "HIST 1302",
                "nameCanonical": "",
                "nameSub": "History 2"
               },
               {
                "credits": 3,
                "curriculum_requisites": [],
                "id": 33,
                "metrics": {
                 "blocking factor": 0,
                 "centrality": 0,
                 "complexity": 1,
                 "delay factor": 1
                },
                "name": "POLS 2305",
                "nameCanonical": "",
                "nameSub": "Political Science"
               },
               {
                "credits": 3,
                "curriculum_requisites": [],
                "id": 34,
                "metrics": {
                 "blocking factor": 0,
                 "centrality": 0,
                 "complexity": 1,
                 "delay factor": 1
                },
                "name": "LPC 1000",
                "nameCanonical": "",
                "nameSub": "Lang, Philos, Culture"
               }
              ],
              "id": 4,
              "name": "Term 4"
             },
             {
              "curriculum_items": [
               {
                "credits": 3,
                "curriculum_requisites": [
                 {
                  "source_id": 2336,
                  "target_id": 3352,
                  "type": "CurriculumPrerequisite"
                 }
                ],
                "id": 3352,
                "metrics": {
                 "blocking factor": 0,
                 "centrality": 0,
                 "complexity": 4,
                 "delay factor": 4
                },
                "name": " CS 3352",
                "nameCanonical": "",
                "nameSub": "Theory of Algorithms "
               },
               {
                "credits": 3,
                "curriculum_requisites": [
                 {
                  "source_id": 2336,
                  "target_id": 4301,
                  "type": "CurriculumPrerequisite"
                 },
                 {
                  "source_id": 3304,
                  "target_id": 4301,
                  "type": "CurriculumPrerequisite"
                 }
                ],
                "id": 4301,
                "metrics": {
                 "blocking factor": 0,
                 "centrality": 0,
                 "complexity": 4,
                 "delay factor": 4
                },
                "name": " CS 4301",
                "nameCanonical": "",
                "nameSub": "Algorithmic Languages and Compilers "
               },
               {
                "credits": 3,
                "curriculum_requisites": [
                 {
                  "source_id": 2336,
                  "target_id": 3,
                  "type": "CurriculumPrerequisite"
                 }
                ],
                "id": 3,
                "metrics": {
                 "blocking factor": 0,
                 "centrality": 0,
                 "complexity": 4,
                 "delay factor": 4
                },
                "name": " CS 3",
                "nameCanonical": "",
                "nameSub": "CS Elective (advanced)"
               },
               {
                "credits": 3,
                "curriculum_requisites": [],
                "id": 35,
                "metrics": {
                 "blocking factor": 0,
                 "centrality": 0,
                 "complexity": 1,
                 "delay factor": 1
                },
                "name": "ART 1000",
                "nameCanonical": "",
                "nameSub": "Creative Arts"
               },
               {
                "credits": 3,
                "curriculum_requisites": [],
                "id": 36,
                "metrics": {
                 "blocking factor": 0,
                 "centrality": 0,
                 "complexity": 1,
                 "delay factor": 1
                },
                "name": "POLS 2306",
                "nameCanonical": "",
                "nameSub": "Political Science"
               }
              ],
              "id": 5,
              "name": "Term 5"
             },
             {
              "curriculum_items": [
               {
                "credits": 3,
                "curriculum_requisites": [
                 {
                  "source_id": 1337,
                  "target_id": 3311,
                  "type": "CurriculumPrerequisite"
                 }
                ],
                "id": 3311,
                "metrics": {
                 "blocking factor": 0,
                 "centrality": 0,
                 "complexity": 3,
                 "delay factor": 3
                },
                "name": " CS 3311",
                "nameCanonical": "",
                "nameSub": "Data Base Management "
               },
               {
                "credits": 3,
                "curriculum_requisites": [
                 {
                  "source_id": 2336,
                  "target_id": 4302,
                  "type": "CurriculumPrerequisite"
                 }
                ],
                "id": 4302,
                "metrics": {
                 "blocking factor": 0,
                 "centrality": 0,
                 "complexity": 4,
                 "delay factor": 4
                },
                "name": " CS 4302",
                "nameCanonical": "",
                "nameSub": "Operating Systems "
               },
               {
                "credits": 3,
                "curriculum_requisites": [],
                "id": 4,
                "metrics": {
                 "blocking factor": 0,
                 "centrality": 0,
                 "complexity": 1,
                 "delay factor": 1
                },
                "name": " CS 4",
                "nameCanonical": "",
                "nameSub": "Elective"
               },
               {
                "credits": 3,
                "curriculum_requisites": [],
                "id": 5,
                "metrics": {
                 "blocking factor": 0,
                 "centrality": 0,
                 "complexity": 1,
                 "delay factor": 1
                },
                "name": " CS 5",
                "nameCanonical": "",
                "nameSub": "Elective"
               },
               {
                "credits": 4,
                "curriculum_requisites": [],
                "id": 37,
                "metrics": {
                 "blocking factor": 0,
                 "centrality": 0,
                 "complexity": 1,
                 "delay factor": 1
                },
                "name": "PHYS 3444",
                "nameCanonical": "",
                "nameSub": "Digital Electronics"
               }
              ],
              "id": 6,
              "name": "Term 6"
             },
             {
              "curriculum_items": [
               {
                "credits": 3,
                "curriculum_requisites": [
                 {
                  "source_id": 2336,
                  "target_id": 4306,
                  "type": "CurriculumPrerequisite"
                 }
                ],
                "id": 4306,
                "metrics": {
                 "blocking factor": 0,
                 "centrality": 0,
                 "complexity": 4,
                 "delay factor": 4
                },
                "name": " CS 4306",
                "nameCanonical": "",
                "nameSub": "Software Engineering "
               },
               {
                "credits": 3,
                "curriculum_requisites": [
                 {
                  "source_id": 2336,
                  "target_id": 6,
                  "type": "CurriculumPrerequisite"
                 }
                ],
                "id": 6,
                "metrics": {
                 "blocking factor": 0,
                 "centrality": 0,
                 "complexity": 4,
                 "delay factor": 4
                },
                "name": " CS 6",
                "nameCanonical": "",
                "nameSub": "CS Elective (advanced)"
               },
               {
                "credits": 3,
                "curriculum_requisites": [],
                "id": 7,
                "metrics": {
                 "blocking factor": 0,
                 "centrality": 0,
                 "complexity": 1,
                 "delay factor": 1
                },
                "name": " CS 7",
                "nameCanonical": "",
                "nameSub": "Elective"
               },
               {
                "credits": 3,
                "curriculum_requisites": [],
                "id": 8,
                "metrics": {
                 "blocking factor": 0,
                 "centrality": 0,
                 "complexity": 1,
                 "delay factor": 1
                },
                "name": " CS 8",
                "nameCanonical": "",
                "nameSub": "Elective (advanced)"
               },
               {
                "credits": 3,
                "curriculum_requisites": [],
                "id": 38,
                "metrics": {
                 "blocking factor": 0,
                 "centrality": 0,
                 "complexity": 1,
                 "delay factor": 1
                },
                "name": "ENGL 3351",
                "nameCanonical": "",
                "nameSub": "Technical Writing"
               }
              ],
              "id": 7,
              "name": "Term 7"
             },
             {
              "curriculum_items": [
               {
                "credits": 3,
                "curriculum_requisites": [
                 {
                  "source_id": 2336,
                  "target_id": 9,
                  "type": "CurriculumPrerequisite"
                 }
                ],
                "id": 9,
                "metrics": {
                 "blocking factor": 0,
                 "centrality": 0,
                 "complexity": 4,
                 "delay factor": 4
                },
                "name": " CS 9",
                "nameCanonical": "",
                "nameSub": "CS Elective (advanced)"
               },
               {
                "credits": 3,
                "curriculum_requisites": [],
                "id": 10,
                "metrics": {
                 "blocking factor": 0,
                 "centrality": 0,
                 "complexity": 1,
                 "delay factor": 1
                },
                "name": " CS 10",
                "nameCanonical": "",
                "nameSub": "Elective"
               },
               {
                "credits": 3,
                "curriculum_requisites": [],
                "id": 11,
                "metrics": {
                 "blocking factor": 0,
                 "centrality": 0,
                 "complexity": 1,
                 "delay factor": 1
                },
                "name": " CS 11",
                "nameCanonical": "",
                "nameSub": "Elective"
               },
               {
                "credits": 3,
                "curriculum_requisites": [],
                "id": 12,
                "metrics": {
                 "blocking factor": 0,
                 "centrality": 0,
                 "complexity": 1,
                 "delay factor": 1
                },
                "name": " CS 12",
                "nameCanonical": "",
                "nameSub": "Elective"
               },
               {
                "credits": 3,
                "curriculum_requisites": [],
                "id": 39,
                "metrics": {
                 "blocking factor": 0,
                 "centrality": 0,
                 "complexity": 1,
                 "delay factor": 1
                },
                "name": "SB 1000",
                "nameCanonical": "",
                "nameSub": "Social and Behav. Sciences"
               }
              ],
              "id": 8,
              "name": "Term 8"
             }
            ],
            "dp_name": "ASU_CS",
            "institution": "Angelo State University",
            "name": "Computer Science"
           },
           "options": {
            "edit": false,
            "hideTerms": false
           }
          }
         }
        },
        "systemjs_options": null
       },
       "nodeType": "Scope",
       "props": {},
       "type": "node"
      },
      "text/html": [
       "<div\n",
       "    class=\"webio-mountpoint\"\n",
       "    data-webio-mountpoint=\"13148140240794573124\"\n",
       ">\n",
       "    <script>\n",
       "    if (window.require && require.defined && require.defined(\"nbextensions/webio-jupyter-notebook\")) {\n",
       "        console.log(\"Jupyter WebIO extension detected, not mounting.\");\n",
       "    } else if (window.WebIO) {\n",
       "        WebIO.mount(\n",
       "            document.querySelector('[data-webio-mountpoint=\"13148140240794573124\"]'),\n",
       "            {\"props\":{},\"nodeType\":\"Scope\",\"type\":\"node\",\"instanceArgs\":{\"imports\":{\"data\":[],\"type\":\"async_block\"},\"id\":\"12304604055382734405\",\"handlers\":{},\"systemjs_options\":null,\"mount_callbacks\":[],\"observables\":{\"curriculum-data\":{\"sync\":true,\"id\":\"18434596780026483607\",\"value\":{\"options\":{\"hideTerms\":false,\"edit\":false},\"curriculum\":{\"name\":\"Computer Science\",\"dp_name\":\"ASU_CS\",\"curriculum_terms\":[{\"name\":\"Term 1\",\"curriculum_items\":[{\"curriculum_requisites\":[],\"name\":\" CS 1336\",\"metrics\":{\"centrality\":0,\"complexity\":15.0,\"blocking factor\":11,\"delay factor\":4.0},\"nameSub\":\"Computer Science I \",\"id\":1336,\"credits\":3,\"nameCanonical\":\"\"},{\"curriculum_requisites\":[],\"name\":\"BGH 1400\",\"metrics\":{\"centrality\":0,\"complexity\":1.0,\"blocking factor\":0,\"delay factor\":1.0},\"nameSub\":\"BIOL_GEOL_HSP\",\"id\":21,\"credits\":4,\"nameCanonical\":\"\"},{\"curriculum_requisites\":[],\"name\":\"ENGL 1301\",\"metrics\":{\"centrality\":0,\"complexity\":1.0,\"blocking factor\":0,\"delay factor\":1.0},\"nameSub\":\"ENGL 1301\",\"id\":22,\"credits\":3,\"nameCanonical\":\"\"},{\"curriculum_requisites\":[],\"name\":\"MATH 1314\\/1316\\/2413\",\"metrics\":{\"centrality\":0,\"complexity\":5.0,\"blocking factor\":2,\"delay factor\":3.0},\"nameSub\":\"Algebra\\/Calculus\\/Trig\",\"id\":23,\"credits\":3,\"nameCanonical\":\"\"},{\"curriculum_requisites\":[],\"name\":\"GS 1181\",\"metrics\":{\"centrality\":0,\"complexity\":1.0,\"blocking factor\":0,\"delay factor\":1.0},\"nameSub\":\"GS 1181\",\"id\":24,\"credits\":1,\"nameCanonical\":\"\"}],\"id\":1},{\"name\":\"Term 2\",\"curriculum_items\":[{\"curriculum_requisites\":[{\"source_id\":1336,\"target_id\":1337,\"type\":\"CurriculumPrerequisite\"}],\"name\":\" CS 1337\",\"metrics\":{\"centrality\":35,\"complexity\":14.0,\"blocking factor\":10,\"delay factor\":4.0},\"nameSub\":\"Computer Science II \",\"id\":1337,\"credits\":3,\"nameCanonical\":\"\"},{\"curriculum_requisites\":[],\"name\":\" CS 1\",\"metrics\":{\"centrality\":0,\"complexity\":1.0,\"blocking factor\":0,\"delay factor\":1.0},\"nameSub\":\"Elective\",\"id\":1,\"credits\":3,\"nameCanonical\":\"\"},{\"curriculum_requisites\":[],\"name\":\"BGH 1400\",\"metrics\":{\"centrality\":0,\"complexity\":1.0,\"blocking factor\":0,\"delay factor\":1.0},\"nameSub\":\"BIOL_GEOL_HSP\",\"id\":25,\"credits\":4,\"nameCanonical\":\"\"},{\"curriculum_requisites\":[],\"name\":\"ENGL 1302;2311\",\"metrics\":{\"centrality\":0,\"complexity\":1.0,\"blocking factor\":0,\"delay factor\":1.0},\"nameSub\":\"ENGL 1302 or 2311\",\"id\":26,\"credits\":3,\"nameCanonical\":\"\"},{\"curriculum_requisites\":[{\"source_id\":23,\"target_id\":27,\"type\":\"CurriculumPrerequisite\"}],\"name\":\"MATH 2312\",\"metrics\":{\"centrality\":3,\"complexity\":4.0,\"blocking factor\":1,\"delay factor\":3.0},\"nameSub\":\"Precalculus\",\"id\":27,\"credits\":3,\"nameCanonical\":\"\"}],\"id\":2},{\"name\":\"Term 3\",\"curriculum_items\":[{\"curriculum_requisites\":[{\"source_id\":1337,\"target_id\":2336,\"type\":\"CurriculumPrerequisite\"}],\"name\":\" CS 2336\",\"metrics\":{\"centrality\":28,\"complexity\":11.0,\"blocking factor\":7,\"delay factor\":4.0},\"nameSub\":\"Data Structures and Algorithms \",\"id\":2336,\"credits\":3,\"nameCanonical\":\"\"},{\"curriculum_requisites\":[],\"name\":\"HIST 1301\",\"metrics\":{\"centrality\":0,\"complexity\":1.0,\"blocking factor\":0,\"delay factor\":1.0},\"nameSub\":\"History 1\",\"id\":28,\"credits\":3,\"nameCanonical\":\"\"},{\"curriculum_requisites\":[{\"source_id\":27,\"target_id\":29,\"type\":\"CurriculumPrerequisite\"}],\"name\":\"MATH 2305\",\"metrics\":{\"centrality\":0,\"complexity\":3.0,\"blocking factor\":0,\"delay factor\":3.0},\"nameSub\":\"Discrete Math\",\"id\":29,\"credits\":3,\"nameCanonical\":\"\"},{\"curriculum_requisites\":[],\"name\":\"COMM 1315\",\"metrics\":{\"centrality\":0,\"complexity\":1.0,\"blocking factor\":0,\"delay factor\":1.0},\"nameSub\":\"Communication\",\"id\":30,\"credits\":3,\"nameCanonical\":\"\"},{\"curriculum_requisites\":[],\"name\":\"CPP 1000\",\"metrics\":{\"centrality\":0,\"complexity\":1.0,\"blocking factor\":0,\"delay factor\":1.0},\"nameSub\":\"CHEM_PS_PHYS\",\"id\":31,\"credits\":3,\"nameCanonical\":\"\"}],\"id\":3},{\"name\":\"Term 4\",\"curriculum_items\":[{\"curriculum_requisites\":[{\"source_id\":1337,\"target_id\":3304,\"type\":\"CurriculumPrerequisite\"}],\"name\":\" CS 3304\",\"metrics\":{\"centrality\":4,\"complexity\":5.0,\"blocking factor\":1,\"delay factor\":4.0},\"nameSub\":\"Computer Organization and Programming \",\"id\":3304,\"credits\":3,\"nameCanonical\":\"\"},{\"curriculum_requisites\":[],\"name\":\" CS 2\",\"metrics\":{\"centrality\":0,\"complexity\":1.0,\"blocking factor\":0,\"delay factor\":1.0},\"nameSub\":\"CS Elective\",\"id\":2,\"credits\":3,\"nameCanonical\":\"\"},{\"curriculum_requisites\":[],\"name\":\"HIST 1302\",\"metrics\":{\"centrality\":0,\"complexity\":1.0,\"blocking factor\":0,\"delay factor\":1.0},\"nameSub\":\"History 2\",\"id\":32,\"credits\":3,\"nameCanonical\":\"\"},{\"curriculum_requisites\":[],\"name\":\"POLS 2305\",\"metrics\":{\"centrality\":0,\"complexity\":1.0,\"blocking factor\":0,\"delay factor\":1.0},\"nameSub\":\"Political Science\",\"id\":33,\"credits\":3,\"nameCanonical\":\"\"},{\"curriculum_requisites\":[],\"name\":\"LPC 1000\",\"metrics\":{\"centrality\":0,\"complexity\":1.0,\"blocking factor\":0,\"delay factor\":1.0},\"nameSub\":\"Lang, Philos, Culture\",\"id\":34,\"credits\":3,\"nameCanonical\":\"\"}],\"id\":4},{\"name\":\"Term 5\",\"curriculum_items\":[{\"curriculum_requisites\":[{\"source_id\":2336,\"target_id\":3352,\"type\":\"CurriculumPrerequisite\"}],\"name\":\" CS 3352\",\"metrics\":{\"centrality\":0,\"complexity\":4.0,\"blocking factor\":0,\"delay factor\":4.0},\"nameSub\":\"Theory of Algorithms \",\"id\":3352,\"credits\":3,\"nameCanonical\":\"\"},{\"curriculum_requisites\":[{\"source_id\":2336,\"target_id\":4301,\"type\":\"CurriculumPrerequisite\"},{\"source_id\":3304,\"target_id\":4301,\"type\":\"CurriculumPrerequisite\"}],\"name\":\" CS 4301\",\"metrics\":{\"centrality\":0,\"complexity\":4.0,\"blocking factor\":0,\"delay factor\":4.0},\"nameSub\":\"Algorithmic Languages and Compilers \",\"id\":4301,\"credits\":3,\"nameCanonical\":\"\"},{\"curriculum_requisites\":[{\"source_id\":2336,\"target_id\":3,\"type\":\"CurriculumPrerequisite\"}],\"name\":\" CS 3\",\"metrics\":{\"centrality\":0,\"complexity\":4.0,\"blocking factor\":0,\"delay factor\":4.0},\"nameSub\":\"CS Elective (advanced)\",\"id\":3,\"credits\":3,\"nameCanonical\":\"\"},{\"curriculum_requisites\":[],\"name\":\"ART 1000\",\"metrics\":{\"centrality\":0,\"complexity\":1.0,\"blocking factor\":0,\"delay factor\":1.0},\"nameSub\":\"Creative Arts\",\"id\":35,\"credits\":3,\"nameCanonical\":\"\"},{\"curriculum_requisites\":[],\"name\":\"POLS 2306\",\"metrics\":{\"centrality\":0,\"complexity\":1.0,\"blocking factor\":0,\"delay factor\":1.0},\"nameSub\":\"Political Science\",\"id\":36,\"credits\":3,\"nameCanonical\":\"\"}],\"id\":5},{\"name\":\"Term 6\",\"curriculum_items\":[{\"curriculum_requisites\":[{\"source_id\":1337,\"target_id\":3311,\"type\":\"CurriculumPrerequisite\"}],\"name\":\" CS 3311\",\"metrics\":{\"centrality\":0,\"complexity\":3.0,\"blocking factor\":0,\"delay factor\":3.0},\"nameSub\":\"Data Base Management \",\"id\":3311,\"credits\":3,\"nameCanonical\":\"\"},{\"curriculum_requisites\":[{\"source_id\":2336,\"target_id\":4302,\"type\":\"CurriculumPrerequisite\"}],\"name\":\" CS 4302\",\"metrics\":{\"centrality\":0,\"complexity\":4.0,\"blocking factor\":0,\"delay factor\":4.0},\"nameSub\":\"Operating Systems \",\"id\":4302,\"credits\":3,\"nameCanonical\":\"\"},{\"curriculum_requisites\":[],\"name\":\" CS 4\",\"metrics\":{\"centrality\":0,\"complexity\":1.0,\"blocking factor\":0,\"delay factor\":1.0},\"nameSub\":\"Elective\",\"id\":4,\"credits\":3,\"nameCanonical\":\"\"},{\"curriculum_requisites\":[],\"name\":\" CS 5\",\"metrics\":{\"centrality\":0,\"complexity\":1.0,\"blocking factor\":0,\"delay factor\":1.0},\"nameSub\":\"Elective\",\"id\":5,\"credits\":3,\"nameCanonical\":\"\"},{\"curriculum_requisites\":[],\"name\":\"PHYS 3444\",\"metrics\":{\"centrality\":0,\"complexity\":1.0,\"blocking factor\":0,\"delay factor\":1.0},\"nameSub\":\"Digital Electronics\",\"id\":37,\"credits\":4,\"nameCanonical\":\"\"}],\"id\":6},{\"name\":\"Term 7\",\"curriculum_items\":[{\"curriculum_requisites\":[{\"source_id\":2336,\"target_id\":4306,\"type\":\"CurriculumPrerequisite\"}],\"name\":\" CS 4306\",\"metrics\":{\"centrality\":0,\"complexity\":4.0,\"blocking factor\":0,\"delay factor\":4.0},\"nameSub\":\"Software Engineering \",\"id\":4306,\"credits\":3,\"nameCanonical\":\"\"},{\"curriculum_requisites\":[{\"source_id\":2336,\"target_id\":6,\"type\":\"CurriculumPrerequisite\"}],\"name\":\" CS 6\",\"metrics\":{\"centrality\":0,\"complexity\":4.0,\"blocking factor\":0,\"delay factor\":4.0},\"nameSub\":\"CS Elective (advanced)\",\"id\":6,\"credits\":3,\"nameCanonical\":\"\"},{\"curriculum_requisites\":[],\"name\":\" CS 7\",\"metrics\":{\"centrality\":0,\"complexity\":1.0,\"blocking factor\":0,\"delay factor\":1.0},\"nameSub\":\"Elective\",\"id\":7,\"credits\":3,\"nameCanonical\":\"\"},{\"curriculum_requisites\":[],\"name\":\" CS 8\",\"metrics\":{\"centrality\":0,\"complexity\":1.0,\"blocking factor\":0,\"delay factor\":1.0},\"nameSub\":\"Elective (advanced)\",\"id\":8,\"credits\":3,\"nameCanonical\":\"\"},{\"curriculum_requisites\":[],\"name\":\"ENGL 3351\",\"metrics\":{\"centrality\":0,\"complexity\":1.0,\"blocking factor\":0,\"delay factor\":1.0},\"nameSub\":\"Technical Writing\",\"id\":38,\"credits\":3,\"nameCanonical\":\"\"}],\"id\":7},{\"name\":\"Term 8\",\"curriculum_items\":[{\"curriculum_requisites\":[{\"source_id\":2336,\"target_id\":9,\"type\":\"CurriculumPrerequisite\"}],\"name\":\" CS 9\",\"metrics\":{\"centrality\":0,\"complexity\":4.0,\"blocking factor\":0,\"delay factor\":4.0},\"nameSub\":\"CS Elective (advanced)\",\"id\":9,\"credits\":3,\"nameCanonical\":\"\"},{\"curriculum_requisites\":[],\"name\":\" CS 10\",\"metrics\":{\"centrality\":0,\"complexity\":1.0,\"blocking factor\":0,\"delay factor\":1.0},\"nameSub\":\"Elective\",\"id\":10,\"credits\":3,\"nameCanonical\":\"\"},{\"curriculum_requisites\":[],\"name\":\" CS 11\",\"metrics\":{\"centrality\":0,\"complexity\":1.0,\"blocking factor\":0,\"delay factor\":1.0},\"nameSub\":\"Elective\",\"id\":11,\"credits\":3,\"nameCanonical\":\"\"},{\"curriculum_requisites\":[],\"name\":\" CS 12\",\"metrics\":{\"centrality\":0,\"complexity\":1.0,\"blocking factor\":0,\"delay factor\":1.0},\"nameSub\":\"Elective\",\"id\":12,\"credits\":3,\"nameCanonical\":\"\"},{\"curriculum_requisites\":[],\"name\":\"SB 1000\",\"metrics\":{\"centrality\":0,\"complexity\":1.0,\"blocking factor\":0,\"delay factor\":1.0},\"nameSub\":\"Social and Behav. Sciences\",\"id\":39,\"credits\":3,\"nameCanonical\":\"\"}],\"id\":8}],\"institution\":\"Angelo State University\"}}}}},\"children\":[{\"props\":{\"src\":\"https:\\/\\/curricula-api-embed.damoursystems.com\\/\",\"id\":\"curriculum\",\"events\":{\"load\":\"(function (){this.contentWindow.postMessage({\\\"options\\\":{\\\"hideTerms\\\":false,\\\"edit\\\":false},\\\"curriculum\\\":{\\\"name\\\":\\\"Computer Science\\\",\\\"dp_name\\\":\\\"ASU_CS\\\",\\\"curriculum_terms\\\":[{\\\"name\\\":\\\"Term 1\\\",\\\"curriculum_items\\\":[{\\\"curriculum_requisites\\\":[],\\\"name\\\":\\\" CS 1336\\\",\\\"metrics\\\":{\\\"centrality\\\":0,\\\"complexity\\\":15.0,\\\"blocking factor\\\":11,\\\"delay factor\\\":4.0},\\\"nameSub\\\":\\\"Computer Science I \\\",\\\"id\\\":1336,\\\"credits\\\":3,\\\"nameCanonical\\\":\\\"\\\"},{\\\"curriculum_requisites\\\":[],\\\"name\\\":\\\"BGH 1400\\\",\\\"metrics\\\":{\\\"centrality\\\":0,\\\"complexity\\\":1.0,\\\"blocking factor\\\":0,\\\"delay factor\\\":1.0},\\\"nameSub\\\":\\\"BIOL_GEOL_HSP\\\",\\\"id\\\":21,\\\"credits\\\":4,\\\"nameCanonical\\\":\\\"\\\"},{\\\"curriculum_requisites\\\":[],\\\"name\\\":\\\"ENGL 1301\\\",\\\"metrics\\\":{\\\"centrality\\\":0,\\\"complexity\\\":1.0,\\\"blocking factor\\\":0,\\\"delay factor\\\":1.0},\\\"nameSub\\\":\\\"ENGL 1301\\\",\\\"id\\\":22,\\\"credits\\\":3,\\\"nameCanonical\\\":\\\"\\\"},{\\\"curriculum_requisites\\\":[],\\\"name\\\":\\\"MATH 1314\\/1316\\/2413\\\",\\\"metrics\\\":{\\\"centrality\\\":0,\\\"complexity\\\":5.0,\\\"blocking factor\\\":2,\\\"delay factor\\\":3.0},\\\"nameSub\\\":\\\"Algebra\\/Calculus\\/Trig\\\",\\\"id\\\":23,\\\"credits\\\":3,\\\"nameCanonical\\\":\\\"\\\"},{\\\"curriculum_requisites\\\":[],\\\"name\\\":\\\"GS 1181\\\",\\\"metrics\\\":{\\\"centrality\\\":0,\\\"complexity\\\":1.0,\\\"blocking factor\\\":0,\\\"delay factor\\\":1.0},\\\"nameSub\\\":\\\"GS 1181\\\",\\\"id\\\":24,\\\"credits\\\":1,\\\"nameCanonical\\\":\\\"\\\"}],\\\"id\\\":1},{\\\"name\\\":\\\"Term 2\\\",\\\"curriculum_items\\\":[{\\\"curriculum_requisites\\\":[{\\\"source_id\\\":1336,\\\"target_id\\\":1337,\\\"type\\\":\\\"CurriculumPrerequisite\\\"}],\\\"name\\\":\\\" CS 1337\\\",\\\"metrics\\\":{\\\"centrality\\\":35,\\\"complexity\\\":14.0,\\\"blocking factor\\\":10,\\\"delay factor\\\":4.0},\\\"nameSub\\\":\\\"Computer Science II \\\",\\\"id\\\":1337,\\\"credits\\\":3,\\\"nameCanonical\\\":\\\"\\\"},{\\\"curriculum_requisites\\\":[],\\\"name\\\":\\\" CS 1\\\",\\\"metrics\\\":{\\\"centrality\\\":0,\\\"complexity\\\":1.0,\\\"blocking factor\\\":0,\\\"delay factor\\\":1.0},\\\"nameSub\\\":\\\"Elective\\\",\\\"id\\\":1,\\\"credits\\\":3,\\\"nameCanonical\\\":\\\"\\\"},{\\\"curriculum_requisites\\\":[],\\\"name\\\":\\\"BGH 1400\\\",\\\"metrics\\\":{\\\"centrality\\\":0,\\\"complexity\\\":1.0,\\\"blocking factor\\\":0,\\\"delay factor\\\":1.0},\\\"nameSub\\\":\\\"BIOL_GEOL_HSP\\\",\\\"id\\\":25,\\\"credits\\\":4,\\\"nameCanonical\\\":\\\"\\\"},{\\\"curriculum_requisites\\\":[],\\\"name\\\":\\\"ENGL 1302;2311\\\",\\\"metrics\\\":{\\\"centrality\\\":0,\\\"complexity\\\":1.0,\\\"blocking factor\\\":0,\\\"delay factor\\\":1.0},\\\"nameSub\\\":\\\"ENGL 1302 or 2311\\\",\\\"id\\\":26,\\\"credits\\\":3,\\\"nameCanonical\\\":\\\"\\\"},{\\\"curriculum_requisites\\\":[{\\\"source_id\\\":23,\\\"target_id\\\":27,\\\"type\\\":\\\"CurriculumPrerequisite\\\"}],\\\"name\\\":\\\"MATH 2312\\\",\\\"metrics\\\":{\\\"centrality\\\":3,\\\"complexity\\\":4.0,\\\"blocking factor\\\":1,\\\"delay factor\\\":3.0},\\\"nameSub\\\":\\\"Precalculus\\\",\\\"id\\\":27,\\\"credits\\\":3,\\\"nameCanonical\\\":\\\"\\\"}],\\\"id\\\":2},{\\\"name\\\":\\\"Term 3\\\",\\\"curriculum_items\\\":[{\\\"curriculum_requisites\\\":[{\\\"source_id\\\":1337,\\\"target_id\\\":2336,\\\"type\\\":\\\"CurriculumPrerequisite\\\"}],\\\"name\\\":\\\" CS 2336\\\",\\\"metrics\\\":{\\\"centrality\\\":28,\\\"complexity\\\":11.0,\\\"blocking factor\\\":7,\\\"delay factor\\\":4.0},\\\"nameSub\\\":\\\"Data Structures and Algorithms \\\",\\\"id\\\":2336,\\\"credits\\\":3,\\\"nameCanonical\\\":\\\"\\\"},{\\\"curriculum_requisites\\\":[],\\\"name\\\":\\\"HIST 1301\\\",\\\"metrics\\\":{\\\"centrality\\\":0,\\\"complexity\\\":1.0,\\\"blocking factor\\\":0,\\\"delay factor\\\":1.0},\\\"nameSub\\\":\\\"History 1\\\",\\\"id\\\":28,\\\"credits\\\":3,\\\"nameCanonical\\\":\\\"\\\"},{\\\"curriculum_requisites\\\":[{\\\"source_id\\\":27,\\\"target_id\\\":29,\\\"type\\\":\\\"CurriculumPrerequisite\\\"}],\\\"name\\\":\\\"MATH 2305\\\",\\\"metrics\\\":{\\\"centrality\\\":0,\\\"complexity\\\":3.0,\\\"blocking factor\\\":0,\\\"delay factor\\\":3.0},\\\"nameSub\\\":\\\"Discrete Math\\\",\\\"id\\\":29,\\\"credits\\\":3,\\\"nameCanonical\\\":\\\"\\\"},{\\\"curriculum_requisites\\\":[],\\\"name\\\":\\\"COMM 1315\\\",\\\"metrics\\\":{\\\"centrality\\\":0,\\\"complexity\\\":1.0,\\\"blocking factor\\\":0,\\\"delay factor\\\":1.0},\\\"nameSub\\\":\\\"Communication\\\",\\\"id\\\":30,\\\"credits\\\":3,\\\"nameCanonical\\\":\\\"\\\"},{\\\"curriculum_requisites\\\":[],\\\"name\\\":\\\"CPP 1000\\\",\\\"metrics\\\":{\\\"centrality\\\":0,\\\"complexity\\\":1.0,\\\"blocking factor\\\":0,\\\"delay factor\\\":1.0},\\\"nameSub\\\":\\\"CHEM_PS_PHYS\\\",\\\"id\\\":31,\\\"credits\\\":3,\\\"nameCanonical\\\":\\\"\\\"}],\\\"id\\\":3},{\\\"name\\\":\\\"Term 4\\\",\\\"curriculum_items\\\":[{\\\"curriculum_requisites\\\":[{\\\"source_id\\\":1337,\\\"target_id\\\":3304,\\\"type\\\":\\\"CurriculumPrerequisite\\\"}],\\\"name\\\":\\\" CS 3304\\\",\\\"metrics\\\":{\\\"centrality\\\":4,\\\"complexity\\\":5.0,\\\"blocking factor\\\":1,\\\"delay factor\\\":4.0},\\\"nameSub\\\":\\\"Computer Organization and Programming \\\",\\\"id\\\":3304,\\\"credits\\\":3,\\\"nameCanonical\\\":\\\"\\\"},{\\\"curriculum_requisites\\\":[],\\\"name\\\":\\\" CS 2\\\",\\\"metrics\\\":{\\\"centrality\\\":0,\\\"complexity\\\":1.0,\\\"blocking factor\\\":0,\\\"delay factor\\\":1.0},\\\"nameSub\\\":\\\"CS Elective\\\",\\\"id\\\":2,\\\"credits\\\":3,\\\"nameCanonical\\\":\\\"\\\"},{\\\"curriculum_requisites\\\":[],\\\"name\\\":\\\"HIST 1302\\\",\\\"metrics\\\":{\\\"centrality\\\":0,\\\"complexity\\\":1.0,\\\"blocking factor\\\":0,\\\"delay factor\\\":1.0},\\\"nameSub\\\":\\\"History 2\\\",\\\"id\\\":32,\\\"credits\\\":3,\\\"nameCanonical\\\":\\\"\\\"},{\\\"curriculum_requisites\\\":[],\\\"name\\\":\\\"POLS 2305\\\",\\\"metrics\\\":{\\\"centrality\\\":0,\\\"complexity\\\":1.0,\\\"blocking factor\\\":0,\\\"delay factor\\\":1.0},\\\"nameSub\\\":\\\"Political Science\\\",\\\"id\\\":33,\\\"credits\\\":3,\\\"nameCanonical\\\":\\\"\\\"},{\\\"curriculum_requisites\\\":[],\\\"name\\\":\\\"LPC 1000\\\",\\\"metrics\\\":{\\\"centrality\\\":0,\\\"complexity\\\":1.0,\\\"blocking factor\\\":0,\\\"delay factor\\\":1.0},\\\"nameSub\\\":\\\"Lang, Philos, Culture\\\",\\\"id\\\":34,\\\"credits\\\":3,\\\"nameCanonical\\\":\\\"\\\"}],\\\"id\\\":4},{\\\"name\\\":\\\"Term 5\\\",\\\"curriculum_items\\\":[{\\\"curriculum_requisites\\\":[{\\\"source_id\\\":2336,\\\"target_id\\\":3352,\\\"type\\\":\\\"CurriculumPrerequisite\\\"}],\\\"name\\\":\\\" CS 3352\\\",\\\"metrics\\\":{\\\"centrality\\\":0,\\\"complexity\\\":4.0,\\\"blocking factor\\\":0,\\\"delay factor\\\":4.0},\\\"nameSub\\\":\\\"Theory of Algorithms \\\",\\\"id\\\":3352,\\\"credits\\\":3,\\\"nameCanonical\\\":\\\"\\\"},{\\\"curriculum_requisites\\\":[{\\\"source_id\\\":2336,\\\"target_id\\\":4301,\\\"type\\\":\\\"CurriculumPrerequisite\\\"},{\\\"source_id\\\":3304,\\\"target_id\\\":4301,\\\"type\\\":\\\"CurriculumPrerequisite\\\"}],\\\"name\\\":\\\" CS 4301\\\",\\\"metrics\\\":{\\\"centrality\\\":0,\\\"complexity\\\":4.0,\\\"blocking factor\\\":0,\\\"delay factor\\\":4.0},\\\"nameSub\\\":\\\"Algorithmic Languages and Compilers \\\",\\\"id\\\":4301,\\\"credits\\\":3,\\\"nameCanonical\\\":\\\"\\\"},{\\\"curriculum_requisites\\\":[{\\\"source_id\\\":2336,\\\"target_id\\\":3,\\\"type\\\":\\\"CurriculumPrerequisite\\\"}],\\\"name\\\":\\\" CS 3\\\",\\\"metrics\\\":{\\\"centrality\\\":0,\\\"complexity\\\":4.0,\\\"blocking factor\\\":0,\\\"delay factor\\\":4.0},\\\"nameSub\\\":\\\"CS Elective (advanced)\\\",\\\"id\\\":3,\\\"credits\\\":3,\\\"nameCanonical\\\":\\\"\\\"},{\\\"curriculum_requisites\\\":[],\\\"name\\\":\\\"ART 1000\\\",\\\"metrics\\\":{\\\"centrality\\\":0,\\\"complexity\\\":1.0,\\\"blocking factor\\\":0,\\\"delay factor\\\":1.0},\\\"nameSub\\\":\\\"Creative Arts\\\",\\\"id\\\":35,\\\"credits\\\":3,\\\"nameCanonical\\\":\\\"\\\"},{\\\"curriculum_requisites\\\":[],\\\"name\\\":\\\"POLS 2306\\\",\\\"metrics\\\":{\\\"centrality\\\":0,\\\"complexity\\\":1.0,\\\"blocking factor\\\":0,\\\"delay factor\\\":1.0},\\\"nameSub\\\":\\\"Political Science\\\",\\\"id\\\":36,\\\"credits\\\":3,\\\"nameCanonical\\\":\\\"\\\"}],\\\"id\\\":5},{\\\"name\\\":\\\"Term 6\\\",\\\"curriculum_items\\\":[{\\\"curriculum_requisites\\\":[{\\\"source_id\\\":1337,\\\"target_id\\\":3311,\\\"type\\\":\\\"CurriculumPrerequisite\\\"}],\\\"name\\\":\\\" CS 3311\\\",\\\"metrics\\\":{\\\"centrality\\\":0,\\\"complexity\\\":3.0,\\\"blocking factor\\\":0,\\\"delay factor\\\":3.0},\\\"nameSub\\\":\\\"Data Base Management \\\",\\\"id\\\":3311,\\\"credits\\\":3,\\\"nameCanonical\\\":\\\"\\\"},{\\\"curriculum_requisites\\\":[{\\\"source_id\\\":2336,\\\"target_id\\\":4302,\\\"type\\\":\\\"CurriculumPrerequisite\\\"}],\\\"name\\\":\\\" CS 4302\\\",\\\"metrics\\\":{\\\"centrality\\\":0,\\\"complexity\\\":4.0,\\\"blocking factor\\\":0,\\\"delay factor\\\":4.0},\\\"nameSub\\\":\\\"Operating Systems \\\",\\\"id\\\":4302,\\\"credits\\\":3,\\\"nameCanonical\\\":\\\"\\\"},{\\\"curriculum_requisites\\\":[],\\\"name\\\":\\\" CS 4\\\",\\\"metrics\\\":{\\\"centrality\\\":0,\\\"complexity\\\":1.0,\\\"blocking factor\\\":0,\\\"delay factor\\\":1.0},\\\"nameSub\\\":\\\"Elective\\\",\\\"id\\\":4,\\\"credits\\\":3,\\\"nameCanonical\\\":\\\"\\\"},{\\\"curriculum_requisites\\\":[],\\\"name\\\":\\\" CS 5\\\",\\\"metrics\\\":{\\\"centrality\\\":0,\\\"complexity\\\":1.0,\\\"blocking factor\\\":0,\\\"delay factor\\\":1.0},\\\"nameSub\\\":\\\"Elective\\\",\\\"id\\\":5,\\\"credits\\\":3,\\\"nameCanonical\\\":\\\"\\\"},{\\\"curriculum_requisites\\\":[],\\\"name\\\":\\\"PHYS 3444\\\",\\\"metrics\\\":{\\\"centrality\\\":0,\\\"complexity\\\":1.0,\\\"blocking factor\\\":0,\\\"delay factor\\\":1.0},\\\"nameSub\\\":\\\"Digital Electronics\\\",\\\"id\\\":37,\\\"credits\\\":4,\\\"nameCanonical\\\":\\\"\\\"}],\\\"id\\\":6},{\\\"name\\\":\\\"Term 7\\\",\\\"curriculum_items\\\":[{\\\"curriculum_requisites\\\":[{\\\"source_id\\\":2336,\\\"target_id\\\":4306,\\\"type\\\":\\\"CurriculumPrerequisite\\\"}],\\\"name\\\":\\\" CS 4306\\\",\\\"metrics\\\":{\\\"centrality\\\":0,\\\"complexity\\\":4.0,\\\"blocking factor\\\":0,\\\"delay factor\\\":4.0},\\\"nameSub\\\":\\\"Software Engineering \\\",\\\"id\\\":4306,\\\"credits\\\":3,\\\"nameCanonical\\\":\\\"\\\"},{\\\"curriculum_requisites\\\":[{\\\"source_id\\\":2336,\\\"target_id\\\":6,\\\"type\\\":\\\"CurriculumPrerequisite\\\"}],\\\"name\\\":\\\" CS 6\\\",\\\"metrics\\\":{\\\"centrality\\\":0,\\\"complexity\\\":4.0,\\\"blocking factor\\\":0,\\\"delay factor\\\":4.0},\\\"nameSub\\\":\\\"CS Elective (advanced)\\\",\\\"id\\\":6,\\\"credits\\\":3,\\\"nameCanonical\\\":\\\"\\\"},{\\\"curriculum_requisites\\\":[],\\\"name\\\":\\\" CS 7\\\",\\\"metrics\\\":{\\\"centrality\\\":0,\\\"complexity\\\":1.0,\\\"blocking factor\\\":0,\\\"delay factor\\\":1.0},\\\"nameSub\\\":\\\"Elective\\\",\\\"id\\\":7,\\\"credits\\\":3,\\\"nameCanonical\\\":\\\"\\\"},{\\\"curriculum_requisites\\\":[],\\\"name\\\":\\\" CS 8\\\",\\\"metrics\\\":{\\\"centrality\\\":0,\\\"complexity\\\":1.0,\\\"blocking factor\\\":0,\\\"delay factor\\\":1.0},\\\"nameSub\\\":\\\"Elective (advanced)\\\",\\\"id\\\":8,\\\"credits\\\":3,\\\"nameCanonical\\\":\\\"\\\"},{\\\"curriculum_requisites\\\":[],\\\"name\\\":\\\"ENGL 3351\\\",\\\"metrics\\\":{\\\"centrality\\\":0,\\\"complexity\\\":1.0,\\\"blocking factor\\\":0,\\\"delay factor\\\":1.0},\\\"nameSub\\\":\\\"Technical Writing\\\",\\\"id\\\":38,\\\"credits\\\":3,\\\"nameCanonical\\\":\\\"\\\"}],\\\"id\\\":7},{\\\"name\\\":\\\"Term 8\\\",\\\"curriculum_items\\\":[{\\\"curriculum_requisites\\\":[{\\\"source_id\\\":2336,\\\"target_id\\\":9,\\\"type\\\":\\\"CurriculumPrerequisite\\\"}],\\\"name\\\":\\\" CS 9\\\",\\\"metrics\\\":{\\\"centrality\\\":0,\\\"complexity\\\":4.0,\\\"blocking factor\\\":0,\\\"delay factor\\\":4.0},\\\"nameSub\\\":\\\"CS Elective (advanced)\\\",\\\"id\\\":9,\\\"credits\\\":3,\\\"nameCanonical\\\":\\\"\\\"},{\\\"curriculum_requisites\\\":[],\\\"name\\\":\\\" CS 10\\\",\\\"metrics\\\":{\\\"centrality\\\":0,\\\"complexity\\\":1.0,\\\"blocking factor\\\":0,\\\"delay factor\\\":1.0},\\\"nameSub\\\":\\\"Elective\\\",\\\"id\\\":10,\\\"credits\\\":3,\\\"nameCanonical\\\":\\\"\\\"},{\\\"curriculum_requisites\\\":[],\\\"name\\\":\\\" CS 11\\\",\\\"metrics\\\":{\\\"centrality\\\":0,\\\"complexity\\\":1.0,\\\"blocking factor\\\":0,\\\"delay factor\\\":1.0},\\\"nameSub\\\":\\\"Elective\\\",\\\"id\\\":11,\\\"credits\\\":3,\\\"nameCanonical\\\":\\\"\\\"},{\\\"curriculum_requisites\\\":[],\\\"name\\\":\\\" CS 12\\\",\\\"metrics\\\":{\\\"centrality\\\":0,\\\"complexity\\\":1.0,\\\"blocking factor\\\":0,\\\"delay factor\\\":1.0},\\\"nameSub\\\":\\\"Elective\\\",\\\"id\\\":12,\\\"credits\\\":3,\\\"nameCanonical\\\":\\\"\\\"},{\\\"curriculum_requisites\\\":[],\\\"name\\\":\\\"SB 1000\\\",\\\"metrics\\\":{\\\"centrality\\\":0,\\\"complexity\\\":1.0,\\\"blocking factor\\\":0,\\\"delay factor\\\":1.0},\\\"nameSub\\\":\\\"Social and Behav. Sciences\\\",\\\"id\\\":39,\\\"credits\\\":3,\\\"nameCanonical\\\":\\\"\\\"}],\\\"id\\\":8}],\\\"institution\\\":\\\"Angelo State University\\\"}},\\\"*\\\"); window.removeEventListener(\\\"message\\\",window.messageReceived); window.messageReceived=(function (event){return (event.data.curriculum!==undefined) ? (WebIO.setval({\\\"name\\\":\\\"curriculum-data\\\",\\\"scope\\\":\\\"12304604055382734405\\\",\\\"id\\\":\\\"18434596780026483607\\\",\\\"type\\\":\\\"observable\\\"},event.data.curriculum)) : undefined}); return window.addEventListener(\\\"message\\\",window.messageReceived)})\"},\"style\":{\"padding\":\"0\",\"height\":\"100vh\",\"margin\":\"0\",\"border\":\"none\",\"width\":\"100%\"}},\"nodeType\":\"DOM\",\"type\":\"node\",\"instanceArgs\":{\"namespace\":\"html\",\"tag\":\"iframe\"},\"children\":[\"\"]}]},\n",
       "            window,\n",
       "        );\n",
       "    } else {\n",
       "        document\n",
       "            .querySelector('[data-webio-mountpoint=\"13148140240794573124\"]')\n",
       "            .innerHTML = (\n",
       "                '<div style=\"padding: 1em; background-color: #f8d6da; border: 1px solid #f5c6cb\">' +\n",
       "                '<p><strong>WebIO not detected.</strong></p>' +\n",
       "                '<p>Please read ' +\n",
       "                '<a href=\"https://juliagizmos.github.io/WebIO.jl/latest/troubleshooting/not-detected/\" target=\"_blank\">the troubleshooting guide</a> ' +\n",
       "                'for more information on how to resolve this issue.</p>' +\n",
       "                '<p><a href=\"https://juliagizmos.github.io/WebIO.jl/latest/troubleshooting/not-detected/\" target=\"_blank\">https://juliagizmos.github.io/WebIO.jl/latest/troubleshooting/not-detected/</a></p>' +\n",
       "                '</div>'\n",
       "            );\n",
       "    }\n",
       "    </script>\n",
       "</div>\n"
      ],
      "text/plain": [
       "WebIO.Scope(WebIO.Node{WebIO.DOM}(WebIO.DOM(:html, :iframe), Any[\"\"], Dict{Symbol, Any}(:src => \"https://curricula-api-embed.damoursystems.com/\", :id => \"curriculum\", :events => Dict{Symbol, WebIO.JSString}(:load => WebIO.JSString(\"(function (){this.contentWindow.postMessage({\\\"options\\\":{\\\"hideTerms\\\":false,\\\"edit\\\":false},\\\"curriculum\\\":{\\\"name\\\":\\\"Computer Science\\\",\\\"dp_name\\\":\\\"ASU_CS\\\",\\\"curriculum_terms\\\":[{\\\"name\\\":\\\"Term 1\\\",\\\"curriculum_items\\\":[{\\\"curriculum_requisites\\\":[],\\\"name\\\":\\\" CS 1336\\\",\\\"metrics\\\":{\\\"centrality\\\":0,\\\"complexity\\\":15.0,\\\"blocking factor\\\":11,\\\"delay factor\\\":4.0},\\\"nameSub\\\":\\\"Computer Science I \\\",\\\"id\\\":1336,\\\"credits\\\":3,\\\"nameCanonical\\\":\\\"\\\"},{\\\"curriculum_requisites\\\":[],\\\"name\\\":\\\"BGH 1400\\\",\\\"metrics\\\":{\\\"centrality\\\":0,\\\"complexity\\\":1.0,\\\"blocking factor\\\":0,\\\"delay factor\\\":1.0},\\\"nameSub\\\":\\\"BIOL_GEOL_HSP\\\",\\\"id\\\":21,\\\"credits\\\":4,\\\"nameCanonical\\\":\\\"\\\"},{\\\"curriculum_requisites\\\":[],\\\"name\\\":\\\"ENGL 1301\\\",\\\"metrics\\\":{\\\"centrality\\\":0,\\\"complexity\\\":1.0,\\\"blocking factor\\\":0,\\\"delay factor\\\":1.0},\\\"nameSub\\\":\\\"ENGL 1301\\\",\\\"id\\\":22,\\\"credits\\\":3,\\\"nameCanonical\\\":\\\"\\\"},{\\\"curriculum_requisites\\\":[],\\\"name\\\":\\\"MATH 1314/1316/2413\\\",\\\"metrics\\\":{\\\"centrality\\\":0,\\\"complexity\\\":5.0,\\\"blocking factor\\\":2,\\\"delay factor\\\":3.0},\\\"nameSub\\\":\\\"Algebra/Calculus/Trig\\\",\\\"id\\\":23,\\\"credits\\\":3,\\\"nameCanonical\\\":\\\"\\\"},{\\\"curriculum_requisites\\\":[],\\\"name\\\":\\\"GS 1181\\\",\\\"metrics\\\":{\\\"centrality\\\":0,\\\"complexity\\\":1.0,\\\"blocking factor\\\":0,\\\"delay factor\\\":1.0},\\\"nameSub\\\":\\\"GS 1181\\\",\\\"id\\\":24,\\\"credits\\\":1,\\\"nameCanonical\\\":\\\"\\\"}],\\\"id\\\":1},{\\\"name\\\":\\\"Term 2\\\",\\\"curriculum_items\\\":[{\\\"curriculum_requisites\\\":[{\\\"source_id\\\":1336,\\\"target_id\\\":1337,\\\"type\\\":\\\"CurriculumPrerequisite\\\"}],\\\"name\\\":\\\" CS 1337\\\",\\\"metrics\\\":{\\\"centrality\\\":35,\\\"complexity\\\":14.0,\\\"blocking factor\\\":10,\\\"delay factor\\\":4.0},\\\"nameSub\\\":\\\"Computer Science II \\\",\\\"id\\\":1337,\\\"credits\\\":3,\\\"nameCanonical\\\":\\\"\\\"},{\\\"curriculum_requisites\\\":[],\\\"name\\\":\\\" CS 1\\\",\\\"metrics\\\":{\\\"centrality\\\":0,\\\"complexity\\\":1.0,\\\"blocking factor\\\":0,\\\"delay factor\\\":1.0},\\\"nameSub\\\":\\\"Elective\\\",\\\"id\\\":1,\\\"credits\\\":3,\\\"nameCanonical\\\":\\\"\\\"},{\\\"curriculum_requisites\\\":[],\\\"name\\\":\\\"BGH 1400\\\",\\\"metrics\\\":{\\\"centrality\\\":0,\\\"complexity\\\":1.0,\\\"blocking factor\\\":0,\\\"delay factor\\\":1.0},\\\"nameSub\\\":\\\"BIOL_GEOL_HSP\\\",\\\"id\\\":25,\\\"credits\\\":4,\\\"nameCanonical\\\":\\\"\\\"},{\\\"curriculum_requisites\\\":[],\\\"name\\\":\\\"ENGL 1302;2311\\\",\\\"metrics\\\":{\\\"centrality\\\":0,\\\"complexity\\\":1.0,\\\"blocking factor\\\":0,\\\"delay factor\\\":1.0},\\\"nameSub\\\":\\\"ENGL 1302 or 2311\\\",\\\"id\\\":26,\\\"credits\\\":3,\\\"nameCanonical\\\":\\\"\\\"},{\\\"curriculum_requisites\\\":[{\\\"source_id\\\":23,\\\"target_id\\\":27,\\\"type\\\":\\\"CurriculumPrerequisite\\\"}],\\\"name\\\":\\\"MATH 2312\\\",\\\"metrics\\\":{\\\"centrality\\\":3,\\\"complexity\\\":4.0,\\\"blocking factor\\\":1,\\\"delay factor\\\":3.0},\\\"nameSub\\\":\\\"Precalculus\\\",\\\"id\\\":27,\\\"credits\\\":3,\\\"nameCanonical\\\":\\\"\\\"}],\\\"id\\\":2},{\\\"name\\\":\\\"Term 3\\\",\\\"curriculum_items\\\":[{\\\"curriculum_requisites\\\":[{\\\"source_id\\\":1337,\\\"target_id\\\":2336,\\\"type\\\":\\\"CurriculumPrerequisite\\\"}],\\\"name\\\":\\\" CS 2336\\\",\\\"metrics\\\":{\\\"centrality\\\":28,\\\"complexity\\\":11.0,\\\"blocking factor\\\":7,\\\"delay factor\\\":4.0},\\\"nameSub\\\":\\\"Data Structures and Algorithms \\\",\\\"id\\\":2336,\\\"credits\\\":3,\\\"nameCanonical\\\":\\\"\\\"},{\\\"curriculum_requisites\\\":[],\\\"name\\\":\\\"HIST 1301\\\",\\\"metrics\\\":{\\\"centrality\\\":0,\\\"complexity\\\":1.0,\\\"blocking factor\\\":0,\\\"delay factor\\\":1.0},\\\"nameSub\\\":\\\"History 1\\\",\\\"id\\\":28,\\\"credits\\\":3,\\\"nameCanonical\\\":\\\"\\\"},{\\\"curriculum_requisites\\\":[{\\\"source_id\\\":27,\\\"target_id\\\":29,\\\"type\\\":\\\"CurriculumPrerequisite\\\"}],\\\"name\\\":\\\"MATH 2305\\\",\\\"metrics\\\":{\\\"centrality\\\":0,\\\"complexity\\\":3.0,\\\"blocking factor\\\":0,\\\"delay factor\\\":3.0},\\\"nameSub\\\":\\\"Discrete Math\\\",\\\"id\\\":29,\\\"credits\\\":3,\\\"nameCanonical\\\":\\\"\\\"},{\\\"curriculum_requisites\\\":[],\\\"name\\\":\\\"COMM 1315\\\",\\\"metrics\\\":{\\\"centrality\\\":0,\\\"complexity\\\":1.0,\\\"blocking factor\\\":0,\\\"delay factor\\\":1.0},\\\"nameSub\\\":\\\"Communication\\\",\\\"id\\\":30,\\\"credits\\\":3,\\\"nameCanonical\\\":\\\"\\\"},{\\\"curriculum_requisites\\\":[],\\\"name\\\":\\\"CPP 1000\\\",\\\"metrics\\\":{\\\"centrality\\\":0,\\\"complexity\\\":1.0,\\\"blocking factor\\\":0,\\\"delay factor\\\":1.0},\\\"nameSub\\\":\\\"CHEM_PS_PHYS\\\",\\\"id\\\":31,\\\"credits\\\":3,\\\"nameCanonical\\\":\\\"\\\"}],\\\"id\\\":3},{\\\"name\\\":\\\"Term 4\\\",\\\"curriculum_items\\\":[{\\\"curriculum_requisites\\\":[{\\\"source_id\\\":1337,\\\"target_id\\\":3304,\\\"type\\\":\\\"CurriculumPrerequisite\\\"}],\\\"name\\\":\\\" CS 3304\\\",\\\"metrics\\\":{\\\"centrality\\\":4,\\\"complexity\\\":5.0,\\\"blocking factor\\\":1,\\\"delay factor\\\":4.0},\\\"nameSub\\\":\\\"Computer Organization and Programming \\\",\\\"id\\\":3304,\\\"credits\\\":3,\\\"nameCanonical\\\":\\\"\\\"},{\\\"curriculum_requisites\\\":[],\\\"name\\\":\\\" CS 2\\\",\\\"metrics\\\":{\\\"centrality\\\":0,\\\"complexity\\\":1.0,\\\"blocking factor\\\":0,\\\"delay factor\\\":1.0},\\\"nameSub\\\":\\\"CS Elective\\\",\\\"id\\\":2,\\\"credits\\\":3,\\\"nameCanonical\\\":\\\"\\\"},{\\\"curriculum_requisites\\\":[],\\\"name\\\":\\\"HIST 1302\\\",\\\"metrics\\\":{\\\"centrality\\\":0,\\\"complexity\\\":1.0,\\\"blocking factor\\\":0,\\\"delay factor\\\":1.0},\\\"nameSub\\\":\\\"History 2\\\",\\\"id\\\":32,\\\"credits\\\":3,\\\"nameCanonical\\\":\\\"\\\"},{\\\"curriculum_requisites\\\":[],\\\"name\\\":\\\"POLS 2305\\\",\\\"metrics\\\":{\\\"centrality\\\":0,\\\"complexity\\\":1.0,\\\"blocking factor\\\":0,\\\"delay factor\\\":1.0},\\\"nameSub\\\":\\\"Political Science\\\",\\\"id\\\":33,\\\"credits\\\":3,\\\"nameCanonical\\\":\\\"\\\"},{\\\"curriculum_requisites\\\":[],\\\"name\\\":\\\"LPC 1000\\\",\\\"metrics\\\":{\\\"centrality\\\":0,\\\"complexity\\\":1.0,\\\"blocking factor\\\":0,\\\"delay factor\\\":1.0},\\\"nameSub\\\":\\\"Lang, Philos, Culture\\\",\\\"id\\\":34,\\\"credits\\\":3,\\\"nameCanonical\\\":\\\"\\\"}],\\\"id\\\":4},{\\\"name\\\":\\\"Term 5\\\",\\\"curriculum_items\\\":[{\\\"curriculum_requisites\\\":[{\\\"source_id\\\":2336,\\\"target_id\\\":3352,\\\"type\\\":\\\"CurriculumPrerequisite\\\"}],\\\"name\\\":\\\" CS 3352\\\",\\\"metrics\\\":{\\\"centrality\\\":0,\\\"complexity\\\":4.0,\\\"blocking factor\\\":0,\\\"delay factor\\\":4.0},\\\"nameSub\\\":\\\"Theory of Algorithms \\\",\\\"id\\\":3352,\\\"credits\\\":3,\\\"nameCanonical\\\":\\\"\\\"},{\\\"curriculum_requisites\\\":[{\\\"source_id\\\":2336,\\\"target_id\\\":4301,\\\"type\\\":\\\"CurriculumPrerequisite\\\"},{\\\"source_id\\\":3304,\\\"target_id\\\":4301,\\\"type\\\":\\\"CurriculumPrerequisite\\\"}],\\\"name\\\":\\\" CS 4301\\\",\\\"metrics\\\":{\\\"centrality\\\":0,\\\"complexity\\\":4.0,\\\"blocking factor\\\":0,\\\"delay factor\\\":4.0},\\\"nameSub\\\":\\\"Algorithmic Languages and Compilers \\\",\\\"id\\\":4301,\\\"credits\\\":3,\\\"nameCanonical\\\":\\\"\\\"},{\\\"curriculum_requisites\\\":[{\\\"source_id\\\":2336,\\\"target_id\\\":3,\\\"type\\\":\\\"CurriculumPrerequisite\\\"}],\\\"name\\\":\\\" CS 3\\\",\\\"metrics\\\":{\\\"centrality\\\":0,\\\"complexity\\\":4.0,\\\"blocking factor\\\":0,\\\"delay factor\\\":4.0},\\\"nameSub\\\":\\\"CS Elective (advanced)\\\",\\\"id\\\":3,\\\"credits\\\":3,\\\"nameCanonical\\\":\\\"\\\"},{\\\"curriculum_requisites\\\":[],\\\"name\\\":\\\"ART 1000\\\",\\\"metrics\\\":{\\\"centrality\\\":0,\\\"complexity\\\":1.0,\\\"blocking factor\\\":0,\\\"delay factor\\\":1.0},\\\"nameSub\\\":\\\"Creative Arts\\\",\\\"id\\\":35,\\\"credits\\\":3,\\\"nameCanonical\\\":\\\"\\\"},{\\\"curriculum_requisites\\\":[],\\\"name\\\":\\\"POLS 2306\\\",\\\"metrics\\\":{\\\"centrality\\\":0,\\\"complexity\\\":1.0,\\\"blocking factor\\\":0,\\\"delay factor\\\":1.0},\\\"nameSub\\\":\\\"Political Science\\\",\\\"id\\\":36,\\\"credits\\\":3,\\\"nameCanonical\\\":\\\"\\\"}],\\\"id\\\":5},{\\\"name\\\":\\\"Term 6\\\",\\\"curriculum_items\\\":[{\\\"curriculum_requisites\\\":[{\\\"source_id\\\":1337,\\\"target_id\\\":3311,\\\"type\\\":\\\"CurriculumPrerequisite\\\"}],\\\"name\\\":\\\" CS 3311\\\",\\\"metrics\\\":{\\\"centrality\\\":0,\\\"complexity\\\":3.0,\\\"blocking factor\\\":0,\\\"delay factor\\\":3.0},\\\"nameSub\\\":\\\"Data Base Management \\\",\\\"id\\\":3311,\\\"credits\\\":3,\\\"nameCanonical\\\":\\\"\\\"},{\\\"curriculum_requisites\\\":[{\\\"source_id\\\":2336,\\\"target_id\\\":4302,\\\"type\\\":\\\"CurriculumPrerequisite\\\"}],\\\"name\\\":\\\" CS 4302\\\",\\\"metrics\\\":{\\\"centrality\\\":0,\\\"complexity\\\":4.0,\\\"blocking factor\\\":0,\\\"delay factor\\\":4.0},\\\"nameSub\\\":\\\"Operating Systems \\\",\\\"id\\\":4302,\\\"credits\\\":3,\\\"nameCanonical\\\":\\\"\\\"},{\\\"curriculum_requisites\\\":[],\\\"name\\\":\\\" CS 4\\\",\\\"metrics\\\":{\\\"centrality\\\":0,\\\"complexity\\\":1.0,\\\"blocking factor\\\":0,\\\"delay factor\\\":1.0},\\\"nameSub\\\":\\\"Elective\\\",\\\"id\\\":4,\\\"credits\\\":3,\\\"nameCanonical\\\":\\\"\\\"},{\\\"curriculum_requisites\\\":[],\\\"name\\\":\\\" CS 5\\\",\\\"metrics\\\":{\\\"centrality\\\":0,\\\"complexity\\\":1.0,\\\"blocking factor\\\":0,\\\"delay factor\\\":1.0},\\\"nameSub\\\":\\\"Elective\\\",\\\"id\\\":5,\\\"credits\\\":3,\\\"nameCanonical\\\":\\\"\\\"},{\\\"curriculum_requisites\\\":[],\\\"name\\\":\\\"PHYS 3444\\\",\\\"metrics\\\":{\\\"centrality\\\":0,\\\"complexity\\\":1.0,\\\"blocking factor\\\":0,\\\"delay factor\\\":1.0},\\\"nameSub\\\":\\\"Digital Electronics\\\",\\\"id\\\":37,\\\"credits\\\":4,\\\"nameCanonical\\\":\\\"\\\"}],\\\"id\\\":6},{\\\"name\\\":\\\"Term 7\\\",\\\"curriculum_items\\\":[{\\\"curriculum_requisites\\\":[{\\\"source_id\\\":2336,\\\"target_id\\\":4306,\\\"type\\\":\\\"CurriculumPrerequisite\\\"}],\\\"name\\\":\\\" CS 4306\\\",\\\"metrics\\\":{\\\"centrality\\\":0,\\\"complexity\\\":4.0,\\\"blocking factor\\\":0,\\\"delay factor\\\":4.0},\\\"nameSub\\\":\\\"Software Engineering \\\",\\\"id\\\":4306,\\\"credits\\\":3,\\\"nameCanonical\\\":\\\"\\\"},{\\\"curriculum_requisites\\\":[{\\\"source_id\\\":2336,\\\"target_id\\\":6,\\\"type\\\":\\\"CurriculumPrerequisite\\\"}],\\\"name\\\":\\\" CS 6\\\",\\\"metrics\\\":{\\\"centrality\\\":0,\\\"complexity\\\":4.0,\\\"blocking factor\\\":0,\\\"delay factor\\\":4.0},\\\"nameSub\\\":\\\"CS Elective (advanced)\\\",\\\"id\\\":6,\\\"credits\\\":3,\\\"nameCanonical\\\":\\\"\\\"},{\\\"curriculum_requisites\\\":[],\\\"name\\\":\\\" CS 7\\\",\\\"metrics\\\":{\\\"centrality\\\":0,\\\"complexity\\\":1.0,\\\"blocking factor\\\":0,\\\"delay factor\\\":1.0},\\\"nameSub\\\":\\\"Elective\\\",\\\"id\\\":7,\\\"credits\\\":3,\\\"nameCanonical\\\":\\\"\\\"},{\\\"curriculum_requisites\\\":[],\\\"name\\\":\\\" CS 8\\\",\\\"metrics\\\":{\\\"centrality\\\":0,\\\"complexity\\\":1.0,\\\"blocking factor\\\":0,\\\"delay factor\\\":1.0},\\\"nameSub\\\":\\\"Elective (advanced)\\\",\\\"id\\\":8,\\\"credits\\\":3,\\\"nameCanonical\\\":\\\"\\\"},{\\\"curriculum_requisites\\\":[],\\\"name\\\":\\\"ENGL 3351\\\",\\\"metrics\\\":{\\\"centrality\\\":0,\\\"complexity\\\":1.0,\\\"blocking factor\\\":0,\\\"delay factor\\\":1.0},\\\"nameSub\\\":\\\"Technical Writing\\\",\\\"id\\\":38,\\\"credits\\\":3,\\\"nameCanonical\\\":\\\"\\\"}],\\\"id\\\":7},{\\\"name\\\":\\\"Term 8\\\",\\\"curriculum_items\\\":[{\\\"curriculum_requisites\\\":[{\\\"source_id\\\":2336,\\\"target_id\\\":9,\\\"type\\\":\\\"CurriculumPrerequisite\\\"}],\\\"name\\\":\\\" CS 9\\\",\\\"metrics\\\":{\\\"centrality\\\":0,\\\"complexity\\\":4.0,\\\"blocking factor\\\":0,\\\"delay factor\\\":4.0},\\\"nameSub\\\":\\\"CS Elective (advanced)\\\",\\\"id\\\":9,\\\"credits\\\":3,\\\"nameCanonical\\\":\\\"\\\"},{\\\"curriculum_requisites\\\":[],\\\"name\\\":\\\" CS 10\\\",\\\"metrics\\\":{\\\"centrality\\\":0,\\\"complexity\\\":1.0,\\\"blocking factor\\\":0,\\\"delay factor\\\":1.0},\\\"nameSub\\\":\\\"Elective\\\",\\\"id\\\":10,\\\"credits\\\":3,\\\"nameCanonical\\\":\\\"\\\"},{\\\"curriculum_requisites\\\":[],\\\"name\\\":\\\" CS 11\\\",\\\"metrics\\\":{\\\"centrality\\\":0,\\\"complexity\\\":1.0,\\\"blocking factor\\\":0,\\\"delay factor\\\":1.0},\\\"nameSub\\\":\\\"Elective\\\",\\\"id\\\":11,\\\"credits\\\":3,\\\"nameCanonical\\\":\\\"\\\"},{\\\"curriculum_requisites\\\":[],\\\"name\\\":\\\" CS 12\\\",\\\"metrics\\\":{\\\"centrality\\\":0,\\\"complexity\\\":1.0,\\\"blocking factor\\\":0,\\\"delay factor\\\":1.0},\\\"nameSub\\\":\\\"Elective\\\",\\\"id\\\":12,\\\"credits\\\":3,\\\"nameCanonical\\\":\\\"\\\"},{\\\"curriculum_requisites\\\":[],\\\"name\\\":\\\"SB 1000\\\",\\\"metrics\\\":{\\\"centrality\\\":0,\\\"complexity\\\":1.0,\\\"blocking factor\\\":0,\\\"delay factor\\\":1.0},\\\"nameSub\\\":\\\"Social and Behav. Sciences\\\",\\\"id\\\":39,\\\"credits\\\":3,\\\"nameCanonical\\\":\\\"\\\"}],\\\"id\\\":8}],\\\"institution\\\":\\\"Angelo State University\\\"}},\\\"*\\\"); window.removeEventListener(\\\"message\\\",window.messageReceived); window.messageReceived=(function (event){return (event.data.curriculum!==undefined) ? (WebIO.setval({\\\"name\\\":\\\"curriculum-data\\\",\\\"scope\\\":\\\"12304604055382734405\\\",\\\"id\\\":\\\"18434596780026483607\\\",\\\"type\\\":\\\"observable\\\"},event.data.curriculum)) : undefined}); return window.addEventListener(\\\"message\\\",window.messageReceived)})\")), :style => Dict(:padding => \"0\", :height => \"100vh\", :margin => \"0\", :border => \"none\", :width => \"100%\"))), Dict{String, Tuple{Observables.AbstractObservable, Union{Nothing, Bool}}}(\"curriculum-data\" => (Observable{Dict{String, Any}} with 1 listeners. Value:\n",
       "Dict{String, Any}(\"options\" => Dict{String, Any}(\"hideTerms\" => false, \"edit\" => false), \"curriculum\" => Dict{String, Any}(\"name\" => \"Computer Science\", \"dp_name\" => \"ASU_CS\", \"curriculum_terms\" => Dict{String, Any}[Dict(\"name\" => \"Term 1\", \"curriculum_items\" => Dict{String, Any}[Dict(\"curriculum_requisites\" => Dict{String, Any}[], \"name\" => \" CS 1336\", \"metrics\" => Dict{String, Any}(\"centrality\" => 0, \"complexity\" => 15.0, \"blocking factor\" => 11, \"delay factor\" => 4.0), \"nameSub\" => \"Computer Science I \", \"id\" => 1336, \"credits\" => 3, \"nameCanonical\" => \"\"), Dict(\"curriculum_requisites\" => Dict{String, Any}[], \"name\" => \"BGH 1400\", \"metrics\" => Dict{String, Any}(\"centrality\" => 0, \"complexity\" => 1.0, \"blocking factor\" => 0, \"delay factor\" => 1.0), \"nameSub\" => \"BIOL_GEOL_HSP\", \"id\" => 21, \"credits\" => 4, \"nameCanonical\" => \"\"), Dict(\"curriculum_requisites\" => Dict{String, Any}[], \"name\" => \"ENGL 1301\", \"metrics\" => Dict{String, Any}(\"centrality\" => 0, \"complexity\" => 1.0, \"blocking factor\" => 0, \"delay factor\" => 1.0), \"nameSub\" => \"ENGL 1301\", \"id\" => 22, \"credits\" => 3, \"nameCanonical\" => \"\"), Dict(\"curriculum_requisites\" => Dict{String, Any}[], \"name\" => \"MATH 1314/1316/2413\", \"metrics\" => Dict{String, Any}(\"centrality\" => 0, \"complexity\" => 5.0, \"blocking factor\" => 2, \"delay factor\" => 3.0), \"nameSub\" => \"Algebra/Calculus/Trig\", \"id\" => 23, \"credits\" => 3, \"nameCanonical\" => \"\"), Dict(\"curriculum_requisites\" => Dict{String, Any}[], \"name\" => \"GS 1181\", \"metrics\" => Dict{String, Any}(\"centrality\" => 0, \"complexity\" => 1.0, \"blocking factor\" => 0, \"delay factor\" => 1.0), \"nameSub\" => \"GS 1181\", \"id\" => 24, \"credits\" => 1, \"nameCanonical\" => \"\")], \"id\" => 1), Dict(\"name\" => \"Term 2\", \"curriculum_items\" => Dict{String, Any}[Dict(\"curriculum_requisites\" => Dict{String, Any}[Dict(\"source_id\" => 1336, \"target_id\" => 1337, \"type\" => \"CurriculumPrerequisite\")], \"name\" => \" CS 1337\", \"metrics\" => Dict{String, Any}(\"centrality\" => 35, \"complexity\" => 14.0, \"blocking factor\" => 10, \"delay factor\" => 4.0), \"nameSub\" => \"Computer Science II \", \"id\" => 1337, \"credits\" => 3, \"nameCanonical\" => \"\"), Dict(\"curriculum_requisites\" => Dict{String, Any}[], \"name\" => \" CS 1\", \"metrics\" => Dict{String, Any}(\"centrality\" => 0, \"complexity\" => 1.0, \"blocking factor\" => 0, \"delay factor\" => 1.0), \"nameSub\" => \"Elective\", \"id\" => 1, \"credits\" => 3, \"nameCanonical\" => \"\"), Dict(\"curriculum_requisites\" => Dict{String, Any}[], \"name\" => \"BGH 1400\", \"metrics\" => Dict{String, Any}(\"centrality\" => 0, \"complexity\" => 1.0, \"blocking factor\" => 0, \"delay factor\" => 1.0), \"nameSub\" => \"BIOL_GEOL_HSP\", \"id\" => 25, \"credits\" => 4, \"nameCanonical\" => \"\"), Dict(\"curriculum_requisites\" => Dict{String, Any}[], \"name\" => \"ENGL 1302;2311\", \"metrics\" => Dict{String, Any}(\"centrality\" => 0, \"complexity\" => 1.0, \"blocking factor\" => 0, \"delay factor\" => 1.0), \"nameSub\" => \"ENGL 1302 or 2311\", \"id\" => 26, \"credits\" => 3, \"nameCanonical\" => \"\"), Dict(\"curriculum_requisites\" => Dict{String, Any}[Dict(\"source_id\" => 23, \"target_id\" => 27, \"type\" => \"CurriculumPrerequisite\")], \"name\" => \"MATH 2312\", \"metrics\" => Dict{String, Any}(\"centrality\" => 3, \"complexity\" => 4.0, \"blocking factor\" => 1, \"delay factor\" => 3.0), \"nameSub\" => \"Precalculus\", \"id\" => 27, \"credits\" => 3, \"nameCanonical\" => \"\")], \"id\" => 2), Dict(\"name\" => \"Term 3\", \"curriculum_items\" => Dict{String, Any}[Dict(\"curriculum_requisites\" => Dict{String, Any}[Dict(\"source_id\" => 1337, \"target_id\" => 2336, \"type\" => \"CurriculumPrerequisite\")], \"name\" => \" CS 2336\", \"metrics\" => Dict{String, Any}(\"centrality\" => 28, \"complexity\" => 11.0, \"blocking factor\" => 7, \"delay factor\" => 4.0), \"nameSub\" => \"Data Structures and Algorithms \", \"id\" => 2336, \"credits\" => 3, \"nameCanonical\" => \"\"), Dict(\"curriculum_requisites\" => Dict{String, Any}[], \"name\" => \"HIST 1301\", \"metrics\" => Dict{String, Any}(\"centrality\" => 0, \"complexity\" => 1.0, \"blocking factor\" => 0, \"delay factor\" => 1.0), \"nameSub\" => \"History 1\", \"id\" => 28, \"credits\" => 3, \"nameCanonical\" => \"\"), Dict(\"curriculum_requisites\" => Dict{String, Any}[Dict(\"source_id\" => 27, \"target_id\" => 29, \"type\" => \"CurriculumPrerequisite\")], \"name\" => \"MATH 2305\", \"metrics\" => Dict{String, Any}(\"centrality\" => 0, \"complexity\" => 3.0, \"blocking factor\" => 0, \"delay factor\" => 3.0), \"nameSub\" => \"Discrete Math\", \"id\" => 29, \"credits\" => 3, \"nameCanonical\" => \"\"), Dict(\"curriculum_requisites\" => Dict{String, Any}[], \"name\" => \"COMM 1315\", \"metrics\" => Dict{String, Any}(\"centrality\" => 0, \"complexity\" => 1.0, \"blocking factor\" => 0, \"delay factor\" => 1.0), \"nameSub\" => \"Communication\", \"id\" => 30, \"credits\" => 3, \"nameCanonical\" => \"\"), Dict(\"curriculum_requisites\" => Dict{String, Any}[], \"name\" => \"CPP 1000\", \"metrics\" => Dict{String, Any}(\"centrality\" => 0, \"complexity\" => 1.0, \"blocking factor\" => 0, \"delay factor\" => 1.0), \"nameSub\" => \"CHEM_PS_PHYS\", \"id\" => 31, \"credits\" => 3, \"nameCanonical\" => \"\")], \"id\" => 3), Dict(\"name\" => \"Term 4\", \"curriculum_items\" => Dict{String, Any}[Dict(\"curriculum_requisites\" => Dict{String, Any}[Dict(\"source_id\" => 1337, \"target_id\" => 3304, \"type\" => \"CurriculumPrerequisite\")], \"name\" => \" CS 3304\", \"metrics\" => Dict{String, Any}(\"centrality\" => 4, \"complexity\" => 5.0, \"blocking factor\" => 1, \"delay factor\" => 4.0), \"nameSub\" => \"Computer Organization and Programming \", \"id\" => 3304, \"credits\" => 3, \"nameCanonical\" => \"\"), Dict(\"curriculum_requisites\" => Dict{String, Any}[], \"name\" => \" CS 2\", \"metrics\" => Dict{String, Any}(\"centrality\" => 0, \"complexity\" => 1.0, \"blocking factor\" => 0, \"delay factor\" => 1.0), \"nameSub\" => \"CS Elective\", \"id\" => 2, \"credits\" => 3, \"nameCanonical\" => \"\"), Dict(\"curriculum_requisites\" => Dict{String, Any}[], \"name\" => \"HIST 1302\", \"metrics\" => Dict{String, Any}(\"centrality\" => 0, \"complexity\" => 1.0, \"blocking factor\" => 0, \"delay factor\" => 1.0), \"nameSub\" => \"History 2\", \"id\" => 32, \"credits\" => 3, \"nameCanonical\" => \"\"), Dict(\"curriculum_requisites\" => Dict{String, Any}[], \"name\" => \"POLS 2305\", \"metrics\" => Dict{String, Any}(\"centrality\" => 0, \"complexity\" => 1.0, \"blocking factor\" => 0, \"delay factor\" => 1.0), \"nameSub\" => \"Political Science\", \"id\" => 33, \"credits\" => 3, \"nameCanonical\" => \"\"), Dict(\"curriculum_requisites\" => Dict{String, Any}[], \"name\" => \"LPC 1000\", \"metrics\" => Dict{String, Any}(\"centrality\" => 0, \"complexity\" => 1.0, \"blocking factor\" => 0, \"delay factor\" => 1.0), \"nameSub\" => \"Lang, Philos, Culture\", \"id\" => 34, \"credits\" => 3, \"nameCanonical\" => \"\")], \"id\" => 4), Dict(\"name\" => \"Term 5\", \"curriculum_items\" => Dict{String, Any}[Dict(\"curriculum_requisites\" => Dict{String, Any}[Dict(\"source_id\" => 2336, \"target_id\" => 3352, \"type\" => \"CurriculumPrerequisite\")], \"name\" => \" CS 3352\", \"metrics\" => Dict{String, Any}(\"centrality\" => 0, \"complexity\" => 4.0, \"blocking factor\" => 0, \"delay factor\" => 4.0), \"nameSub\" => \"Theory of Algorithms \", \"id\" => 3352, \"credits\" => 3, \"nameCanonical\" => \"\"), Dict(\"curriculum_requisites\" => Dict{String, Any}[Dict(\"source_id\" => 2336, \"target_id\" => 4301, \"type\" => \"CurriculumPrerequisite\"), Dict(\"source_id\" => 3304, \"target_id\" => 4301, \"type\" => \"CurriculumPrerequisite\")], \"name\" => \" CS 4301\", \"metrics\" => Dict{String, Any}(\"centrality\" => 0, \"complexity\" => 4.0, \"blocking factor\" => 0, \"delay factor\" => 4.0), \"nameSub\" => \"Algorithmic Languages and Compilers \", \"id\" => 4301, \"credits\" => 3, \"nameCanonical\" => \"\"), Dict(\"curriculum_requisites\" => Dict{String, Any}[Dict(\"source_id\" => 2336, \"target_id\" => 3, \"type\" => \"CurriculumPrerequisite\")], \"name\" => \" CS 3\", \"metrics\" => Dict{String, Any}(\"centrality\" => 0, \"complexity\" => 4.0, \"blocking factor\" => 0, \"delay factor\" => 4.0), \"nameSub\" => \"CS Elective (advanced)\", \"id\" => 3, \"credits\" => 3, \"nameCanonical\" => \"\"), Dict(\"curriculum_requisites\" => Dict{String, Any}[], \"name\" => \"ART 1000\", \"metrics\" => Dict{String, Any}(\"centrality\" => 0, \"complexity\" => 1.0, \"blocking factor\" => 0, \"delay factor\" => 1.0), \"nameSub\" => \"Creative Arts\", \"id\" => 35, \"credits\" => 3, \"nameCanonical\" => \"\"), Dict(\"curriculum_requisites\" => Dict{String, Any}[], \"name\" => \"POLS 2306\", \"metrics\" => Dict{String, Any}(\"centrality\" => 0, \"complexity\" => 1.0, \"blocking factor\" => 0, \"delay factor\" => 1.0), \"nameSub\" => \"Political Science\", \"id\" => 36, \"credits\" => 3, \"nameCanonical\" => \"\")], \"id\" => 5), Dict(\"name\" => \"Term 6\", \"curriculum_items\" => Dict{String, Any}[Dict(\"curriculum_requisites\" => Dict{String, Any}[Dict(\"source_id\" => 1337, \"target_id\" => 3311, \"type\" => \"CurriculumPrerequisite\")], \"name\" => \" CS 3311\", \"metrics\" => Dict{String, Any}(\"centrality\" => 0, \"complexity\" => 3.0, \"blocking factor\" => 0, \"delay factor\" => 3.0), \"nameSub\" => \"Data Base Management \", \"id\" => 3311, \"credits\" => 3, \"nameCanonical\" => \"\"), Dict(\"curriculum_requisites\" => Dict{String, Any}[Dict(\"source_id\" => 2336, \"target_id\" => 4302, \"type\" => \"CurriculumPrerequisite\")], \"name\" => \" CS 4302\", \"metrics\" => Dict{String, Any}(\"centrality\" => 0, \"complexity\" => 4.0, \"blocking factor\" => 0, \"delay factor\" => 4.0), \"nameSub\" => \"Operating Systems \", \"id\" => 4302, \"credits\" => 3, \"nameCanonical\" => \"\"), Dict(\"curriculum_requisites\" => Dict{String, Any}[], \"name\" => \" CS 4\", \"metrics\" => Dict{String, Any}(\"centrality\" => 0, \"complexity\" => 1.0, \"blocking factor\" => 0, \"delay factor\" => 1.0), \"nameSub\" => \"Elective\", \"id\" => 4, \"credits\" => 3, \"nameCanonical\" => \"\"), Dict(\"curriculum_requisites\" => Dict{String, Any}[], \"name\" => \" CS 5\", \"metrics\" => Dict{String, Any}(\"centrality\" => 0, \"complexity\" => 1.0, \"blocking factor\" => 0, \"delay factor\" => 1.0), \"nameSub\" => \"Elective\", \"id\" => 5, \"credits\" => 3, \"nameCanonical\" => \"\"), Dict(\"curriculum_requisites\" => Dict{String, Any}[], \"name\" => \"PHYS 3444\", \"metrics\" => Dict{String, Any}(\"centrality\" => 0, \"complexity\" => 1.0, \"blocking factor\" => 0, \"delay factor\" => 1.0), \"nameSub\" => \"Digital Electronics\", \"id\" => 37, \"credits\" => 4, \"nameCanonical\" => \"\")], \"id\" => 6), Dict(\"name\" => \"Term 7\", \"curriculum_items\" => Dict{String, Any}[Dict(\"curriculum_requisites\" => Dict{String, Any}[Dict(\"source_id\" => 2336, \"target_id\" => 4306, \"type\" => \"CurriculumPrerequisite\")], \"name\" => \" CS 4306\", \"metrics\" => Dict{String, Any}(\"centrality\" => 0, \"complexity\" => 4.0, \"blocking factor\" => 0, \"delay factor\" => 4.0), \"nameSub\" => \"Software Engineering \", \"id\" => 4306, \"credits\" => 3, \"nameCanonical\" => \"\"), Dict(\"curriculum_requisites\" => Dict{String, Any}[Dict(\"source_id\" => 2336, \"target_id\" => 6, \"type\" => \"CurriculumPrerequisite\")], \"name\" => \" CS 6\", \"metrics\" => Dict{String, Any}(\"centrality\" => 0, \"complexity\" => 4.0, \"blocking factor\" => 0, \"delay factor\" => 4.0), \"nameSub\" => \"CS Elective (advanced)\", \"id\" => 6, \"credits\" => 3, \"nameCanonical\" => \"\"), Dict(\"curriculum_requisites\" => Dict{String, Any}[], \"name\" => \" CS 7\", \"metrics\" => Dict{String, Any}(\"centrality\" => 0, \"complexity\" => 1.0, \"blocking factor\" => 0, \"delay factor\" => 1.0), \"nameSub\" => \"Elective\", \"id\" => 7, \"credits\" => 3, \"nameCanonical\" => \"\"), Dict(\"curriculum_requisites\" => Dict{String, Any}[], \"name\" => \" CS 8\", \"metrics\" => Dict{String, Any}(\"centrality\" => 0, \"complexity\" => 1.0, \"blocking factor\" => 0, \"delay factor\" => 1.0), \"nameSub\" => \"Elective (advanced)\", \"id\" => 8, \"credits\" => 3, \"nameCanonical\" => \"\"), Dict(\"curriculum_requisites\" => Dict{String, Any}[], \"name\" => \"ENGL 3351\", \"metrics\" => Dict{String, Any}(\"centrality\" => 0, \"complexity\" => 1.0, \"blocking factor\" => 0, \"delay factor\" => 1.0), \"nameSub\" => \"Technical Writing\", \"id\" => 38, \"credits\" => 3, \"nameCanonical\" => \"\")], \"id\" => 7), Dict(\"name\" => \"Term 8\", \"curriculum_items\" => Dict{String, Any}[Dict(\"curriculum_requisites\" => Dict{String, Any}[Dict(\"source_id\" => 2336, \"target_id\" => 9, \"type\" => \"CurriculumPrerequisite\")], \"name\" => \" CS 9\", \"metrics\" => Dict{String, Any}(\"centrality\" => 0, \"complexity\" => 4.0, \"blocking factor\" => 0, \"delay factor\" => 4.0), \"nameSub\" => \"CS Elective (advanced)\", \"id\" => 9, \"credits\" => 3, \"nameCanonical\" => \"\"), Dict(\"curriculum_requisites\" => Dict{String, Any}[], \"name\" => \" CS 10\", \"metrics\" => Dict{String, Any}(\"centrality\" => 0, \"complexity\" => 1.0, \"blocking factor\" => 0, \"delay factor\" => 1.0), \"nameSub\" => \"Elective\", \"id\" => 10, \"credits\" => 3, \"nameCanonical\" => \"\"), Dict(\"curriculum_requisites\" => Dict{String, Any}[], \"name\" => \" CS 11\", \"metrics\" => Dict{String, Any}(\"centrality\" => 0, \"complexity\" => 1.0, \"blocking factor\" => 0, \"delay factor\" => 1.0), \"nameSub\" => \"Elective\", \"id\" => 11, \"credits\" => 3, \"nameCanonical\" => \"\"), Dict(\"curriculum_requisites\" => Dict{String, Any}[], \"name\" => \" CS 12\", \"metrics\" => Dict{String, Any}(\"centrality\" => 0, \"complexity\" => 1.0, \"blocking factor\" => 0, \"delay factor\" => 1.0), \"nameSub\" => \"Elective\", \"id\" => 12, \"credits\" => 3, \"nameCanonical\" => \"\"), Dict(\"curriculum_requisites\" => Dict{String, Any}[], \"name\" => \"SB 1000\", \"metrics\" => Dict{String, Any}(\"centrality\" => 0, \"complexity\" => 1.0, \"blocking factor\" => 0, \"delay factor\" => 1.0), \"nameSub\" => \"Social and Behav. Sciences\", \"id\" => 39, \"credits\" => 3, \"nameCanonical\" => \"\")], \"id\" => 8)], \"institution\" => \"Angelo State University\")), nothing)), Set{String}(), nothing, WebIO.Asset[], Dict{Any, Any}(), WebIO.ConnectionPool(Channel{Any}(32), Set{WebIO.AbstractConnection}(), Condition(Base.InvasiveLinkedList{Task}(Task (runnable) @0x000000010c849aa0, Task (runnable) @0x000000010c849aa0), Base.AlwaysLockedST(1))), WebIO.JSString[])"
      ]
     },
     "execution_count": 46,
     "metadata": {
      "application/vnd.webio.node+json": {
       "kernelId": "707b65f2-cc23-4b63-b8e5-85d854fabcf6"
      }
     },
     "output_type": "execute_result"
    }
   ],
   "source": [
    "ASU_CS = read_csv(\"./degree-plan-cs.csv\")\n",
    "visualize(ASU_CS, notebook=true, scale=1.0)"
   ]
  },
  {
   "cell_type": "code",
   "execution_count": 47,
   "id": "7b98cb5e",
   "metadata": {},
   "outputs": [
    {
     "data": {
      "text/plain": [
       "(113.0, Number[1.0, 1.0, 4.0, 1.0, 1.0, 4.0, 1.0, 1.0, 4.0, 1.0  …  1.0, 15.0, 14.0, 11.0, 5.0, 3.0, 4.0, 4.0, 4.0, 4.0])"
      ]
     },
     "execution_count": 47,
     "metadata": {},
     "output_type": "execute_result"
    }
   ],
   "source": [
    "complexity(ASU_CS.curriculum)"
   ]
  },
  {
   "cell_type": "markdown",
   "id": "c3bc801b",
   "metadata": {},
   "source": [
    "**Result**: ASU CS has a curriculum complexity of **113.0**, which is comparable to the average of mid- to top-tier CS programs. See here:\n",
    "\n",
    "https://github.com/CurricularAnalytics/CA-Notebooks/blob/master/Quality-Complexity%20Studies/Computer%20Science/Quality-Complexity-CS.ipynb"
   ]
  }
 ],
 "metadata": {
  "@webio": {
   "lastCommId": "aa599bd9a9fb4ed98fb7d875b4711414",
   "lastKernelId": "707b65f2-cc23-4b63-b8e5-85d854fabcf6"
  },
  "kernelspec": {
   "display_name": "Julia 1.6.2",
   "language": "julia",
   "name": "julia-1.6"
  },
  "language_info": {
   "file_extension": ".jl",
   "mimetype": "application/julia",
   "name": "julia",
   "version": "1.6.2"
  }
 },
 "nbformat": 4,
 "nbformat_minor": 5
}
